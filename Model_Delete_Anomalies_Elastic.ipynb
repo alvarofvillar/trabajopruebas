{
  "cells": [
    {
      "cell_type": "markdown",
      "metadata": {
        "id": "ApNixb3H0-qk"
      },
      "source": [
        "# Modelo de eliminación de incidencias en series temporales en Elastic ML"
      ]
    },
    {
      "cell_type": "code",
      "execution_count": 400,
      "metadata": {
        "id": "cEktGNiU-yQe"
      },
      "outputs": [],
      "source": [
        "#!pip install eland\n",
        "#!pip install elasticsearch"
      ]
    },
    {
      "cell_type": "code",
      "execution_count": 1,
      "metadata": {
        "id": "zye1jStu1AQq"
      },
      "outputs": [
        {
          "name": "stderr",
          "output_type": "stream",
          "text": [
            "C:\\Users\\U01A507C\\AppData\\Local\\Temp\\ipykernel_11384\\2346974226.py:5: DeprecationWarning: Importing from the 'elasticsearch.client' module is deprecated. Instead use 'elasticsearch' module for importing the client.\n",
            "  from elasticsearch import client\n"
          ]
        }
      ],
      "source": [
        "# Importacion de modulos \n",
        "import elasticsearch\n",
        "import numpy as np\n",
        "from elasticsearch import Elasticsearch\n",
        "from elasticsearch import client\n",
        "from datetime import datetime\n",
        "from time import sleep\n",
        "from elasticsearch.client import IndicesClient\n",
        "import eland as ed\n",
        "import pandas as pd\n",
        "from elasticsearch.client import IngestClient"
      ]
    },
    {
      "cell_type": "markdown",
      "metadata": {
        "id": "21GAIsji3_pV"
      },
      "source": [
        "# Inputs"
      ]
    },
    {
      "cell_type": "code",
      "execution_count": 55,
      "metadata": {
        "id": "XGAOWWfn4BQd"
      },
      "outputs": [],
      "source": [
        "# Informacion sobre la incidencia\n",
        "fecha_inicio_incidencia = \"2022-03-11 23:50:00\" # Meter la hora segun timezone, no en UTC\n",
        "fecha_fin_incidencia    = \"2022-03-13 00:10:00\" # Meter la hora según timezone, no en UTC\n",
        "\n",
        "# Nombre del Job de Elastic\n",
        "jobname                 = \"prueba_def\"\n",
        "variable_name_predict   = \"y_an\"\n",
        "\n",
        "# Nombre del indice sobre el que se realiza el Job\n",
        "index_data              = 'prueba_def'\n",
        "\n",
        "# Nombre del Datafeed\n",
        "datafeed_id = \"datafeed-\" + jobname"
      ]
    },
    {
      "cell_type": "markdown",
      "metadata": {
        "id": "5n62EqUJKiXE"
      },
      "source": [
        "# Nuevas variables"
      ]
    },
    {
      "cell_type": "code",
      "execution_count": 56,
      "metadata": {
        "id": "sMl1DrpJKkdc"
      },
      "outputs": [],
      "source": [
        "# Calculo del offset por cambio de hora\n",
        "\n",
        "# Timestamps fechas incidencia\n",
        "fecha_inicio_incidencia = datetime.strptime(fecha_inicio_incidencia, '%Y-%m-%d %H:%M:%S')\n",
        "fecha_inicio_incidencia_timestamp = datetime.timestamp(fecha_inicio_incidencia)*1000\n",
        "\n",
        "fecha_fin_incidencia = datetime.strptime(fecha_fin_incidencia, '%Y-%m-%d %H:%M:%S')\n",
        "fecha_fin_incidencia_timestamp = datetime.timestamp(fecha_fin_incidencia)*1000\n",
        "\n",
        "# Timestamps de las fechas de cambio de hora\n",
        "\n",
        "# Primer cambio de hora\n",
        "fecha_cambio_hora_1 = \"2022-03-27 02:00:00\" \n",
        "fecha_cambio_hora_1 = datetime.strptime(fecha_cambio_hora_1, '%Y-%m-%d %H:%M:%S')\n",
        "fecha_cambio_hora_1_timestamp = datetime.timestamp(fecha_cambio_hora_1)*1000\n",
        "\n",
        "# Segundo cambio de hora\n",
        "fecha_cambio_hora_2 = \"2022-10-30 02:00:00\" \n",
        "fecha_cambio_hora_2 = datetime.strptime(fecha_cambio_hora_2, '%Y-%m-%d %H:%M:%S')\n",
        "fecha_cambio_hora_2_timestamp = datetime.timestamp(fecha_cambio_hora_2)*1000\n",
        "\n",
        "# Comparamos fechas en el mismo año \n",
        "fecha_inicio_incidencia_cambio_timestamp = (datetime(2022, fecha_inicio_incidencia.month, fecha_inicio_incidencia.day, fecha_inicio_incidencia.hour, fecha_inicio_incidencia.minute, fecha_inicio_incidencia.second).timestamp())*1000 \n",
        "\n",
        "if (fecha_inicio_incidencia_cambio_timestamp < fecha_cambio_hora_1_timestamp):\n",
        "    offset_1 = -3600 \n",
        "\n",
        "if ((fecha_inicio_incidencia_cambio_timestamp > fecha_cambio_hora_1_timestamp) and (fecha_inicio_incidencia_cambio_timestamp < fecha_cambio_hora_2_timestamp)):\n",
        "  offset_1 = -7200\n",
        "\n",
        "if (fecha_cambio_hora_2_timestamp < fecha_inicio_incidencia_cambio_timestamp):\n",
        "  offset_1 = -3600  \n",
        "\n",
        "fecha_fin_incidencia_cambio_timestamp = (datetime(2022, fecha_fin_incidencia.month, fecha_fin_incidencia.day, fecha_fin_incidencia.hour, fecha_fin_incidencia.minute, fecha_fin_incidencia.second).timestamp())*1000 \n",
        "\n",
        "if (fecha_fin_incidencia_cambio_timestamp < fecha_cambio_hora_1_timestamp):\n",
        "    offset_2 = -3600 \n",
        "\n",
        "if ((fecha_fin_incidencia_cambio_timestamp > fecha_cambio_hora_1_timestamp) and (fecha_fin_incidencia_cambio_timestamp < fecha_cambio_hora_2_timestamp)):\n",
        "  offset_2 = -7200\n",
        "\n",
        "if (fecha_cambio_hora_2_timestamp < fecha_fin_incidencia_cambio_timestamp):\n",
        "  offset_2 = -3600  "
      ]
    },
    {
      "cell_type": "code",
      "execution_count": 57,
      "metadata": {
        "id": "XJClAMIsKulK"
      },
      "outputs": [],
      "source": [
        "# Transformacion de variables de entrada\n",
        "# Fechas\n",
        "fecha_inicio_incidencia = (fecha_inicio_incidencia_timestamp + offset_1*1000)/1000\n",
        "fecha_inicio_incidencia_snapshot = fecha_inicio_incidencia*1000\n",
        "fecha_fin_incidencia    = (fecha_fin_incidencia_timestamp + offset_2*1000)/1000\n",
        "fecha_fin_incidencia_snapshot = fecha_fin_incidencia*1000\n",
        "# Avanzamos esta ultima fecha 2 hora \n",
        "fecha_fin_incidencia_snapshot_avanc = str((fecha_fin_incidencia+7200)*1000)\n",
        "\n",
        "fecha_inicio_incidencia_datetime = datetime.fromtimestamp(fecha_inicio_incidencia)\n",
        "fecha_fin_incidencia_datetime = datetime.fromtimestamp(fecha_fin_incidencia)\n",
        "\n",
        "fecha_inicio_incidencia_datetime_str = str(fecha_inicio_incidencia_datetime)\n",
        "fecha_fin_incidencia_datetime_str = str(fecha_fin_incidencia_datetime)\n",
        "fecha_inicio_incidencia_datetime_querie = fecha_inicio_incidencia_datetime_str[0:10] + 'T' + fecha_inicio_incidencia_datetime_str[11:]\n",
        "fecha_fin_incidencia_datetime_querie    = fecha_fin_incidencia_datetime_str[0:10] + 'T' + fecha_fin_incidencia_datetime_str[11:] \n",
        "\n",
        "# Nombre del Datafeed\n",
        "datafeed_id = \"datafeed-\" + jobname"
      ]
    },
    {
      "cell_type": "code",
      "execution_count": 58,
      "metadata": {
        "id": "y8yeQ6qA1FFA"
      },
      "outputs": [],
      "source": [
        "# Datos de la conexion con el servidor de Elastic\n",
        "ELASTIC_PASSWORD = \"1wnMu3ewMODBlwcpl5ceMzUM\"\n",
        "CLOUD_ID = \"sextodespliegueseriestemporales:dXMtY2VudHJhbDEuZ2NwLmNsb3VkLmVzLmlvOjQ0MyQ4YzRlOTAxOGQzMzk0NTcyOWFkYTU4YjMzMjU5NzY2NCQyODBmYTNiMmEyZTI0OTU5OTcxYWE1MGVmNzJlZmMxMA==\"\n",
        "\n",
        "es_client = Elasticsearch(\n",
        "    cloud_id=CLOUD_ID,\n",
        "    basic_auth=(\"elastic\", ELASTIC_PASSWORD)\n",
        ")\n",
        "cliente_index = IndicesClient(client=es_client)\n",
        "cliente_ml = es_client.ml"
      ]
    },
    {
      "cell_type": "markdown",
      "metadata": {
        "id": "0D3wMDvCbFBM"
      },
      "source": [
        "# Solución"
      ]
    },
    {
      "cell_type": "code",
      "execution_count": 59,
      "metadata": {
        "id": "IF2xwwwC1WGI"
      },
      "outputs": [],
      "source": [
        "# Creacion del Indice de Backup\n",
        "indexname = 'indicebackup'\n",
        "indexname_2 = 'indicebackup2'\n",
        "indexname_3 = \"indicebackup3\"\n",
        "\n",
        "try:\n",
        "  cliente_index.create(index=indexname)\n",
        "except:\n",
        "  cliente_index.delete(index=indexname)\n",
        "  cliente_index.create(index=indexname)\n",
        "\n",
        "try:\n",
        "  cliente_index.create(index=indexname_2)\n",
        "except:\n",
        "  cliente_index.delete(index=indexname_2)\n",
        "  cliente_index.create(index=indexname_2)\n",
        "\n",
        "try:\n",
        "  cliente_index.create(index=indexname_3)\n",
        "except:\n",
        "  cliente_index.delete(index=indexname_3)\n",
        "  cliente_index.create(index=indexname_3)"
      ]
    },
    {
      "cell_type": "code",
      "execution_count": 60,
      "metadata": {
        "colab": {
          "base_uri": "https://localhost:8080/"
        },
        "id": "F3CUSHqx4stO",
        "outputId": "e77f367d-17f5-4d45-c28c-88c1440691a8"
      },
      "outputs": [
        {
          "name": "stderr",
          "output_type": "stream",
          "text": [
            "C:\\Users\\U01A507C\\AppData\\Local\\Temp\\ipykernel_11384\\2776966873.py:2: DeprecationWarning: The 'body' parameter is deprecated and will be removed in a future version. Instead use individual parameters.\n",
            "  es_client.reindex(body={\n"
          ]
        },
        {
          "data": {
            "text/plain": [
              "ObjectApiResponse({'took': 44, 'timed_out': False, 'total': 147, 'updated': 0, 'created': 147, 'deleted': 0, 'batches': 1, 'version_conflicts': 0, 'noops': 0, 'retries': {'bulk': 0, 'search': 0}, 'throttled_millis': 0, 'requests_per_second': -1.0, 'throttled_until_millis': 0, 'failures': []})"
            ]
          },
          "execution_count": 60,
          "metadata": {},
          "output_type": "execute_result"
        }
      ],
      "source": [
        "# Reindexar datos de la anomalia al indice backup \n",
        "es_client.reindex(body={\n",
        "      \"source\": {\n",
        "          \"index\": index_data,\n",
        "          \"query\": {\n",
        "              \"range\":{\n",
        "                  \"@timestamp\":{\n",
        "                      \"gte\": fecha_inicio_incidencia_datetime_querie,\n",
        "                      \"lte\": fecha_fin_incidencia_datetime_querie\n",
        "                      }\n",
        "                   }\n",
        "                }\n",
        "              },\n",
        "              \"dest\": {\n",
        "                  \"index\": indexname\n",
        "              }})"
      ]
    },
    {
      "cell_type": "code",
      "execution_count": 61,
      "metadata": {
        "id": "cn5Zl2a81iBm"
      },
      "outputs": [],
      "source": [
        "# Obtener datos de la prediccion del Job para el tiempo de anomalia\n",
        "df = ed.DataFrame(es_client, es_index_pattern=\".ml-anomalies-shared\")\n",
        "# Filtramos para nuestro job de interes\n",
        "df = df[df[\"job_id\"] == jobname]\n",
        "# Obtenemos las columnas de interes del dataframe\n",
        "df_select = df[[\"timestamp\", \"model_median\", \"model_upper\"]]\n",
        "# Eliminar filas con valores nulos\n",
        "df_select = ed.eland_to_pandas(df_select)\n",
        "df_select = df_select.dropna()\n",
        "df_select.head(20)\n",
        "# Ordenamos filas por timestamp\n",
        "df_select.timestamp\n",
        "# Seleccionamos timestamp de interes\n",
        "df_select['timestamp'] = pd.to_datetime(df_select.timestamp)\n",
        "df_select_order = df_select.sort_values(by=\"timestamp\", ascending=True)\n",
        "df_select_order = df_select_order.set_index(\"timestamp\")\n",
        "df_select_filter = df_select_order.loc[fecha_inicio_incidencia_datetime:fecha_fin_incidencia_datetime]"
      ]
    },
    {
      "cell_type": "code",
      "execution_count": 62,
      "metadata": {
        "colab": {
          "base_uri": "https://localhost:8080/"
        },
        "id": "2kVsPAJYNCtu",
        "outputId": "caceb2b3-350a-48cf-eff6-e372a5c39120"
      },
      "outputs": [
        {
          "name": "stderr",
          "output_type": "stream",
          "text": [
            "C:\\Users\\U01A507C\\AppData\\Local\\Temp\\ipykernel_11384\\4160868791.py:2: SettingWithCopyWarning: \n",
            "A value is trying to be set on a copy of a slice from a DataFrame\n",
            "\n",
            "See the caveats in the documentation: https://pandas.pydata.org/pandas-docs/stable/user_guide/indexing.html#returning-a-view-versus-a-copy\n",
            "  df_select_filter.rename(columns = {'model_median':variable_name_predict}, inplace = True)\n"
          ]
        }
      ],
      "source": [
        "# Hacer un rename del nombre de columna \"model_median\" al nombre de la variable que se predice en el JOB\n",
        "df_select_filter.rename(columns = {'model_median':variable_name_predict}, inplace = True)\n",
        "\n",
        "# Eliminar variable upper_name\n",
        "df_select_filter = df_select_filter.drop('model_upper', axis=1)\n",
        "df_select_filter = df_select_filter.reset_index()"
      ]
    },
    {
      "cell_type": "code",
      "execution_count": 63,
      "metadata": {
        "colab": {
          "base_uri": "https://localhost:8080/"
        },
        "id": "HLMIl7ipQXkr",
        "outputId": "13b93263-c2d6-439d-f3ca-4f81b5ea7328"
      },
      "outputs": [
        {
          "name": "stderr",
          "output_type": "stream",
          "text": [
            "C:\\Users\\U01A507C\\AppData\\Local\\Temp\\ipykernel_11384\\8895733.py:5: DeprecationWarning: The 'body' parameter is deprecated and will be removed in a future version. Instead use individual parameters.\n",
            "  client_Ingest.put_pipeline(id='procesador_date_anomalias', body={\n",
            "C:\\Users\\U01A507C\\AppData\\Local\\Temp\\ipykernel_11384\\8895733.py:29: DeprecationWarning: The 'body' parameter is deprecated and will be removed in a future version. Instead use individual parameters.\n",
            "  es_client.delete_by_query(index=index_data, body={\n",
            "C:\\Users\\U01A507C\\AppData\\Local\\Temp\\ipykernel_11384\\8895733.py:41: DeprecationWarning: The 'body' parameter is deprecated and will be removed in a future version. Instead use individual parameters.\n",
            "  es_client.reindex(body={\n",
            "C:\\Users\\U01A507C\\AppData\\Local\\Temp\\ipykernel_11384\\8895733.py:52: DeprecationWarning: The 'body' parameter is deprecated and will be removed in a future version. Instead use individual parameters.\n",
            "  es_client.reindex(body={\n"
          ]
        },
        {
          "data": {
            "text/plain": [
              "ObjectApiResponse({'took': 17, 'timed_out': False, 'total': 147, 'updated': 147, 'created': 0, 'deleted': 0, 'batches': 1, 'version_conflicts': 0, 'noops': 0, 'retries': {'bulk': 0, 'search': 0}, 'throttled_millis': 0, 'requests_per_second': -1.0, 'throttled_until_millis': 0, 'failures': []})"
            ]
          },
          "execution_count": 63,
          "metadata": {},
          "output_type": "execute_result"
        }
      ],
      "source": [
        "# Crear la pipeline de ingesta para @timestamp \n",
        "client_Ingest = IngestClient(client=es_client)\n",
        "\n",
        "try:\n",
        "  client_Ingest.put_pipeline(id='procesador_date_anomalias', body={\n",
        "      'description': \"Parsea el @timestamp\",\n",
        "      'processors': [\n",
        "          {\n",
        "              \"date\": {\n",
        "                  \"field\": \"timestamp\", \n",
        "                  \"formats\": [\"ISO8601\"],\n",
        "                  \"target_field\": \"@timestamp\"\n",
        "                  }\n",
        "          }\n",
        "          ]})\n",
        "except:\n",
        "  pass\n",
        "\n",
        "# Introducir datos a un indice intermedio\n",
        "df_select_filter\n",
        "for i, row in df_select_filter.iterrows():\n",
        "    doc = {\n",
        "        \"timestamp\": row[\"timestamp\"],\n",
        "        \"y_an\": row[\"y_an\"]\n",
        "    }\n",
        "    es_client.index(index=indexname_2, id=i, document=doc)\n",
        "\n",
        "# Eliminar del indice principal datos para el timestamp de la incidencia\n",
        "es_client.delete_by_query(index=index_data, body={\n",
        "  \"query\": {\n",
        "    \"range\":{\n",
        "         \"@timestamp\":{\n",
        "            \"gte\": fecha_inicio_incidencia_datetime_querie,\n",
        "            \"lte\": fecha_fin_incidencia_datetime_querie\n",
        "          }\n",
        "        }\n",
        "  }\n",
        "})\n",
        "sleep(5)\n",
        "# Parsear a un indice los datos teniendo cuidado con el timestamp al indice principal\n",
        "es_client.reindex(body={\n",
        "      'source': {\n",
        "          \"index\": indexname_2\n",
        "          },\n",
        "          'dest': {\n",
        "              \"index\": index_data,\n",
        "              \"pipeline\": \"procesador_date_anomalias\"\n",
        "              }},\n",
        "              wait_for_completion=True)\n",
        "sleep(5)\n",
        "# Parsear a un indice los datos teniendo cuidado con el timestamp al indice principal\n",
        "es_client.reindex(body={\n",
        "      'source': {\n",
        "          \"index\": indexname_2\n",
        "          },\n",
        "          'dest': {\n",
        "              \"index\": index_data,\n",
        "              \"pipeline\": \"procesador_date_anomalias\"\n",
        "              }},\n",
        "              wait_for_completion=True)"
      ]
    },
    {
      "cell_type": "code",
      "execution_count": 64,
      "metadata": {
        "id": "GTpszXekQqrT"
      },
      "outputs": [
        {
          "name": "stdout",
          "output_type": "stream",
          "text": [
            "Eliminacion de la incidencia con éxito\n"
          ]
        }
      ],
      "source": [
        "# Resetear Job desde la snapshot (buscar snapshot como en el modelo anterior y correr job)\n",
        "# Paso 1. Parar y cerrar el Job\n",
        "cliente_ml.close_job(job_id=jobname)\n",
        "# Paso 2. Escoger el id de la snapshot con latest_record_time_stamp mas cercano a la incidencia\n",
        "snapshots_available = cliente_ml.get_model_snapshots(job_id=jobname)\n",
        "# Recoger el count \n",
        "number_snapshots = snapshots_available[\"count\"]\n",
        "\n",
        "if (number_snapshots > 0):\n",
        "  # Iterar guardando en una matriz el id del snpashot y latest_record_time_stamp\n",
        "  snapshots_info = snapshots_available[\"model_snapshots\"]\n",
        "  latest = np.zeros((number_snapshots, 2))\n",
        "  for i in range(number_snapshots):\n",
        "    latest[i,0] = snapshots_info[i][\"latest_record_time_stamp\"]\n",
        "\n",
        "  for i in range(number_snapshots):\n",
        "    latest[i,1] = snapshots_info[i][\"snapshot_id\"]\n",
        "\n",
        "  # Comparar con la fecha de la incidencia para buscar cual esta inmediatamente antes\n",
        "    # Ordenar por timestamp (primera columna)\n",
        "    latest1 = latest[latest[:,0].argsort()]\n",
        "    latest2 = np.flip(latest1, axis=0)\n",
        "    # Eliminar valores mayores\n",
        "    latest3 = latest2[latest2[:,0]<float(fecha_inicio_incidencia_snapshot)]\n",
        "  # Escoger el id de la reversion correcta\n",
        "  try:\n",
        "    id_revert = latest3[0,1]\n",
        "    id_revert = str(int(id_revert))\n",
        "  except:\n",
        "    print(\"No hay disponible snapshot anterior a la fecha de incidencia. El Script terminará sin éxito\")\n",
        "  else:\n",
        "    # Paso 3. Revertir el Job antes de la incidencia \n",
        "    cliente_ml.revert_model_snapshot(job_id=jobname, snapshot_id=id_revert, delete_intervening_results=True)\n",
        "    # Paso 4. Abrir el Job \n",
        "    cliente_ml.open_job(job_id=jobname)\n",
        "    # Paso 5. Avanzamos datafeed hasta la fecha de inicio de incidencia\n",
        "    cliente_ml.start_datafeed(datafeed_id=datafeed_id, end=str(fecha_fin_incidencia_snapshot))\n",
        "    state_datafeed = 1\n",
        "\n",
        "    # Una vez completado el paso continuamos al siguiente\n",
        "    while (state_datafeed == 1):\n",
        "      sleep(10)\n",
        "      state_datafd = cliente_ml.get_datafeed_stats(datafeed_id=datafeed_id)\n",
        "      st = state_datafd['datafeeds']\n",
        "      state_actual = st[0]['state'] \n",
        "      if (state_actual == 'stopped'):\n",
        "        state_datafeed = 0\n",
        "    print(\"Eliminacion de la incidencia con éxito\")\n",
        "else:\n",
        "    print(\"No hay snaphsots disponibles. El Script terminará sin éxito\")"
      ]
    },
    {
      "cell_type": "markdown",
      "metadata": {
        "id": "WxHi9XAa0J6b"
      },
      "source": [
        "# Borrado de Indices"
      ]
    },
    {
      "cell_type": "code",
      "execution_count": 65,
      "metadata": {
        "colab": {
          "base_uri": "https://localhost:8080/"
        },
        "id": "KxE8-WQiQyAI",
        "outputId": "004aed01-23c7-421e-e275-2269f166f4cc"
      },
      "outputs": [
        {
          "name": "stderr",
          "output_type": "stream",
          "text": [
            "C:\\Users\\U01A507C\\AppData\\Local\\Temp\\ipykernel_11384\\2206002910.py:3: DeprecationWarning: The 'body' parameter is deprecated and will be removed in a future version. Instead use individual parameters.\n",
            "  es_client.delete_by_query(index=index_data, body={\n",
            "C:\\Users\\U01A507C\\AppData\\Local\\Temp\\ipykernel_11384\\2206002910.py:15: DeprecationWarning: The 'body' parameter is deprecated and will be removed in a future version. Instead use individual parameters.\n",
            "  es_client.reindex(body={\n"
          ]
        }
      ],
      "source": [
        "# Sustituir datos del indice backup al indice original para el tiempo de incidencia\n",
        "# 1. Eliminar datos ingestados de la prediccion para el tiempo de incidencia\n",
        "es_client.delete_by_query(index=index_data, body={\n",
        "  \"query\": {\n",
        "    \"range\":{\n",
        "         \"@timestamp\":{\n",
        "            \"gte\": fecha_inicio_incidencia_datetime_querie,\n",
        "            \"lte\": fecha_fin_incidencia_datetime_querie\n",
        "          }\n",
        "        }\n",
        "  }\n",
        "})\n",
        "sleep(5)\n",
        "# 2. Ingesta de los datos del backup para el tiempo de incidencia\n",
        "es_client.reindex(body={\n",
        "      \"source\": {\n",
        "          \"index\": indexname,\n",
        "          \"query\": {\n",
        "              \"range\":{\n",
        "                  \"@timestamp\":{\n",
        "                      \"gte\": fecha_inicio_incidencia_datetime_querie,\n",
        "                      \"lte\": fecha_fin_incidencia_datetime_querie\n",
        "                      }\n",
        "                   }\n",
        "                }\n",
        "              },\n",
        "              \"dest\": {\n",
        "                  \"index\": index_data\n",
        "              }},\n",
        "              wait_for_completion=True)\n",
        "sleep(5)"
      ]
    },
    {
      "cell_type": "code",
      "execution_count": 66,
      "metadata": {
        "id": "BiPOcXEcrYYO"
      },
      "outputs": [],
      "source": [
        "# Eliminar indices creados\n",
        "try:\n",
        "  cliente_index.delete(index=indexname)\n",
        "except:\n",
        "  pass\n",
        "try:\n",
        "  cliente_index.delete(index=indexname_2)\n",
        "except:\n",
        "  pass\n",
        "try:\n",
        "  cliente_index.delete(index=indexname_3)\n",
        "except:\n",
        "  pass"
      ]
    },
    {
      "cell_type": "code",
      "execution_count": 67,
      "metadata": {
        "colab": {
          "base_uri": "https://localhost:8080/"
        },
        "id": "PilECtHYFBKN",
        "outputId": "3168146e-d9ae-41e1-bf8d-5a21e7c65e9c"
      },
      "outputs": [
        {
          "data": {
            "text/plain": [
              "ObjectApiResponse({'started': True, 'node': 'huFCCXGvRNq0SJwf4kGLxA'})"
            ]
          },
          "execution_count": 67,
          "metadata": {},
          "output_type": "execute_result"
        }
      ],
      "source": [
        "# Paso 6. Avanzamos datafeed hasta el tiempo real\n",
        "cliente_ml.open_job(job_id=jobname)\n",
        "sleep(5)\n",
        "cliente_ml.start_datafeed(datafeed_id=datafeed_id, start=str(fecha_fin_incidencia_snapshot))"
      ]
    }
  ],
  "metadata": {
    "colab": {
      "name": "Te damos la bienvenida a Colaboratory",
      "provenance": []
    },
    "kernelspec": {
      "display_name": "Python 3.9.12 ('base')",
      "language": "python",
      "name": "python3"
    },
    "language_info": {
      "codemirror_mode": {
        "name": "ipython",
        "version": 3
      },
      "file_extension": ".py",
      "mimetype": "text/x-python",
      "name": "python",
      "nbconvert_exporter": "python",
      "pygments_lexer": "ipython3",
      "version": "3.9.12"
    },
    "vscode": {
      "interpreter": {
        "hash": "c2599cfed5c3551c124a16055143f99bc42268306d83c8f101bfe9fca36142c7"
      }
    }
  },
  "nbformat": 4,
  "nbformat_minor": 0
}
