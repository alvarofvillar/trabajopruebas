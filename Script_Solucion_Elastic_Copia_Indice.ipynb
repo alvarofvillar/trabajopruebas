{
  "cells": [
    {
      "cell_type": "code",
      "source": [
        "#pip install elasticsearch"
      ],
      "metadata": {
        "id": "t-THT7qJhIeB",
        "outputId": "23d277cd-200e-4615-f244-c407c0b263cc",
        "colab": {
          "base_uri": "https://localhost:8080/"
        }
      },
      "execution_count": null,
      "outputs": [
        {
          "output_type": "stream",
          "name": "stdout",
          "text": [
            "Looking in indexes: https://pypi.org/simple, https://us-python.pkg.dev/colab-wheels/public/simple/\n",
            "Collecting elasticsearch\n",
            "  Downloading elasticsearch-8.5.2-py3-none-any.whl (385 kB)\n",
            "\u001b[K     |████████████████████████████████| 385 kB 6.0 MB/s \n",
            "\u001b[?25hCollecting elastic-transport<9,>=8\n",
            "  Downloading elastic_transport-8.4.0-py3-none-any.whl (59 kB)\n",
            "\u001b[K     |████████████████████████████████| 59 kB 4.2 MB/s \n",
            "\u001b[?25hRequirement already satisfied: certifi in /usr/local/lib/python3.7/dist-packages (from elastic-transport<9,>=8->elasticsearch) (2022.9.24)\n",
            "Collecting urllib3<2,>=1.26.2\n",
            "  Downloading urllib3-1.26.13-py2.py3-none-any.whl (140 kB)\n",
            "\u001b[K     |████████████████████████████████| 140 kB 49.2 MB/s \n",
            "\u001b[?25hInstalling collected packages: urllib3, elastic-transport, elasticsearch\n",
            "  Attempting uninstall: urllib3\n",
            "    Found existing installation: urllib3 1.24.3\n",
            "    Uninstalling urllib3-1.24.3:\n",
            "      Successfully uninstalled urllib3-1.24.3\n",
            "\u001b[31mERROR: pip's dependency resolver does not currently take into account all the packages that are installed. This behaviour is the source of the following dependency conflicts.\n",
            "requests 2.23.0 requires urllib3!=1.25.0,!=1.25.1,<1.26,>=1.21.1, but you have urllib3 1.26.13 which is incompatible.\u001b[0m\n",
            "Successfully installed elastic-transport-8.4.0 elasticsearch-8.5.2 urllib3-1.26.13\n"
          ]
        }
      ]
    },
    {
      "cell_type": "markdown",
      "source": [
        "# Módulos"
      ],
      "metadata": {
        "id": "6HoKPTwbqc9J"
      }
    },
    {
      "cell_type": "code",
      "source": [
        "# Importacion de modulos \n",
        "import elasticsearch\n",
        "import numpy as np\n",
        "from elasticsearch import Elasticsearch\n",
        "from elasticsearch import client\n",
        "from datetime import datetime\n",
        "from time import sleep"
      ],
      "metadata": {
        "id": "pmSEOpC83tFy"
      },
      "execution_count": null,
      "outputs": []
    },
    {
      "cell_type": "markdown",
      "source": [
        "# Inputs "
      ],
      "metadata": {
        "id": "2t3qWrTlqine"
      }
    },
    {
      "cell_type": "code",
      "source": [
        "# Informacion sobre la incidencia\n",
        "fecha_inicio_incidencia = \"2022-03-04 23:50:00\" # Meter la hora según timezone\n",
        "fecha_fin_incidencia    = \"2022-03-06 00:10:00\" # Meter la hora según timezone\n",
        "\n",
        "# Nombre del Job de Elastic\n",
        "jobname                 = \"sabado_anomalia\""
      ],
      "metadata": {
        "id": "Q894CsyMYQ9I"
      },
      "execution_count": null,
      "outputs": []
    },
    {
      "cell_type": "code",
      "source": [
        "# Datos de la conexion con el servidor de Elastic\n",
        "ELASTIC_PASSWORD = \"9QJVpAsI1dfU33vZpc072VTd\"\n",
        "CLOUD_ID = \"SeriestemporalesElastic:dXMtY2VudHJhbDEuZ2NwLmNsb3VkLmVzLmlvOjQ0MyQxMmRiODkwZjhhN2U0YTVjOTAwMDViODMyZjhlYWViNCRjMmU4YmQxYjkzZTI0MGY5OTZiYzIyNTFkZGMxMGY4Yg==\"\n",
        "\n",
        "client = Elasticsearch(\n",
        "    cloud_id=CLOUD_ID,\n",
        "    basic_auth=(\"elastic\", ELASTIC_PASSWORD)\n",
        ")"
      ],
      "metadata": {
        "id": "hDOLpStE4DlO"
      },
      "execution_count": null,
      "outputs": []
    },
    {
      "cell_type": "markdown",
      "source": [
        "# Nuevas Variables"
      ],
      "metadata": {
        "id": "sGR3NnT_qn23"
      }
    },
    {
      "cell_type": "code",
      "source": [
        "# Calculo del offset por cambio de hora\n",
        "\n",
        "# Timestamps fechas incidencia\n",
        "fecha_inicio_incidencia = datetime.strptime(fecha_inicio_incidencia, '%Y-%m-%d %H:%M:%S')\n",
        "fecha_inicio_incidencia_timestamp = datetime.timestamp(fecha_inicio_incidencia)*1000\n",
        "\n",
        "fecha_fin_incidencia = datetime.strptime(fecha_fin_incidencia, '%Y-%m-%d %H:%M:%S')\n",
        "fecha_fin_incidencia_timestamp = datetime.timestamp(fecha_fin_incidencia)*1000\n",
        "\n",
        "# Timestamps de las fechas de cambio de hora\n",
        "\n",
        "# Primer cambio de hora\n",
        "fecha_cambio_hora_1 = \"2022-03-27 02:00:00\" \n",
        "fecha_cambio_hora_1 = datetime.strptime(fecha_cambio_hora_1, '%Y-%m-%d %H:%M:%S')\n",
        "fecha_cambio_hora_1_timestamp = datetime.timestamp(fecha_cambio_hora_1)*1000\n",
        "\n",
        "# Segundo cambio de hora\n",
        "fecha_cambio_hora_2 = \"2022-10-30 02:00:00\" \n",
        "fecha_cambio_hora_2 = datetime.strptime(fecha_cambio_hora_2, '%Y-%m-%d %H:%M:%S')\n",
        "fecha_cambio_hora_2_timestamp = datetime.timestamp(fecha_cambio_hora_2)*1000\n",
        "\n",
        "# Comparamos fechas en el mismo año \n",
        "fecha_inicio_incidencia_cambio_timestamp = (datetime(2022, fecha_inicio_incidencia.month, fecha_inicio_incidencia.day, fecha_inicio_incidencia.hour, fecha_inicio_incidencia.minute, fecha_inicio_incidencia.second).timestamp())*1000 \n",
        "\n",
        "if (fecha_inicio_incidencia_cambio_timestamp < fecha_cambio_hora_1_timestamp):\n",
        "    offset_1 = -3600 \n",
        "\n",
        "if ((fecha_inicio_incidencia_cambio_timestamp > fecha_cambio_hora_1_timestamp) and (fecha_inicio_incidencia_cambio_timestamp < fecha_cambio_hora_2_timestamp)):\n",
        "  offset_1 = -7200\n",
        "\n",
        "if (fecha_cambio_hora_2_timestamp < fecha_inicio_incidencia_cambio_timestamp):\n",
        "  offset_1 = -3600  \n",
        "\n",
        "fecha_fin_incidencia_cambio_timestamp = (datetime(2022, fecha_fin_incidencia.month, fecha_fin_incidencia.day, fecha_fin_incidencia.hour, fecha_fin_incidencia.minute, fecha_fin_incidencia.second).timestamp())*1000 \n",
        "\n",
        "if (fecha_fin_incidencia_cambio_timestamp < fecha_cambio_hora_1_timestamp):\n",
        "    offset_2 = -3600 \n",
        "\n",
        "if ((fecha_fin_incidencia_cambio_timestamp > fecha_cambio_hora_1_timestamp) and (fecha_fin_incidencia_cambio_timestamp < fecha_cambio_hora_2_timestamp)):\n",
        "  offset_2 = -7200\n",
        "\n",
        "if (fecha_cambio_hora_2_timestamp < fecha_fin_incidencia_cambio_timestamp):\n",
        "  offset_2 = -3600  "
      ],
      "metadata": {
        "id": "KZU76-vHbx6X"
      },
      "execution_count": null,
      "outputs": []
    },
    {
      "cell_type": "code",
      "source": [
        "# Transformacion de variables de entrada\n",
        "# Fechas\n",
        "fecha_inicio_incidencia = str((int(fecha_inicio_incidencia_timestamp + offset_1*1000)))\n",
        "fecha_fin_incidencia = str((int(fecha_fin_incidencia_timestamp + offset_2*1000)))\n",
        "\n",
        "# Nombre del Datafeed\n",
        "datafeed_id = \"datafeed-\" + jobname\n",
        "\n",
        "# Cliente de ML\n",
        "cliente_ml = client.ml"
      ],
      "metadata": {
        "id": "LKA4KL7_6Xle"
      },
      "execution_count": null,
      "outputs": []
    },
    {
      "cell_type": "markdown",
      "source": [
        "# Solución"
      ],
      "metadata": {
        "id": "KHmFmwh2qs2q"
      }
    },
    {
      "cell_type": "code",
      "source": [
        "# Paso 1. Parar y cerrar el Job\n",
        "cliente_ml.close_job(job_id=jobname)"
      ],
      "metadata": {
        "colab": {
          "base_uri": "https://localhost:8080/"
        },
        "id": "6AhE18gCeT3s",
        "outputId": "52c2e743-fa4b-42aa-cd1c-a67f4563a893"
      },
      "execution_count": null,
      "outputs": [
        {
          "output_type": "execute_result",
          "data": {
            "text/plain": [
              "ObjectApiResponse({'closed': True})"
            ]
          },
          "metadata": {},
          "execution_count": 155
        }
      ]
    },
    {
      "cell_type": "code",
      "source": [
        "# Paso 2. Escoger el id de la snapshot con latest_record_time_stamp mas cercano a la incidencia\n",
        "snapshots_available = cliente_ml.get_model_snapshots(job_id=jobname)\n",
        "# Recoger el count \n",
        "number_snapshots = snapshots_available[\"count\"]\n",
        "# Iterar guardando en una matriz el id del snpashot y latest_record_time_stamp\n",
        "snapshots_info = snapshots_available[\"model_snapshots\"]\n",
        "latest = np.zeros((number_snapshots, 2))\n",
        "for i in range(number_snapshots):\n",
        "  latest[i,0] = snapshots_info[i][\"latest_record_time_stamp\"]\n",
        "\n",
        "for i in range(number_snapshots):\n",
        "  latest[i,1] = snapshots_info[i][\"snapshot_id\"]\n",
        "\n",
        "# Comparar con la fecha de la incidencia para buscar cual esta inmediatamente antes\n",
        "  # Ordenar por timestamp (primera columna)\n",
        "  latest1 = latest[latest[:,0].argsort()]\n",
        "  latest2 = np.flip(latest1, axis=0)\n",
        "  # Eliminar valores mayores\n",
        "  latest3 = latest2[latest2[:,0]<float(fecha_inicio_incidencia)]\n",
        "# Escoger el id de la reversion correcta\n",
        "id_revert = latest3[0,1]\n",
        "id_revert = str(int(id_revert))"
      ],
      "metadata": {
        "id": "MrC1uVf-Pqz3"
      },
      "execution_count": null,
      "outputs": []
    },
    {
      "cell_type": "code",
      "source": [
        "# Paso 3. Revertir el Job antes de la incidencia \n",
        "cliente_ml.revert_model_snapshot(job_id=jobname, snapshot_id=id_revert, delete_intervening_results=True)\n",
        "sleep(5)"
      ],
      "metadata": {
        "id": "Gqc32uAMeZ40"
      },
      "execution_count": null,
      "outputs": []
    },
    {
      "cell_type": "code",
      "source": [
        "# Paso 4. Abrir el Job \n",
        "cliente_ml.open_job(job_id=jobname)\n",
        "sleep(5)"
      ],
      "metadata": {
        "id": "LKuk9FApej7j"
      },
      "execution_count": null,
      "outputs": []
    },
    {
      "cell_type": "code",
      "source": [
        "# Paso 5. Avanzamos datafeed hasta la fecha de inicio de incidencia\n",
        "cliente_ml.start_datafeed(datafeed_id=datafeed_id, end=fecha_inicio_incidencia)\n",
        "state_datafeed = 1\n",
        "\n",
        "# Una vez completado el paso continuamos al siguiente\n",
        "while (state_datafeed == 1):\n",
        "  sleep(10)\n",
        "  state_datafd = cliente_ml.get_datafeed_stats(datafeed_id=datafeed_id)\n",
        "  st = state_datafd['datafeeds']\n",
        "  state_actual = st[0]['state'] \n",
        "  if (state_actual == 'stopped'):\n",
        "    state_datafeed = 0"
      ],
      "metadata": {
        "id": "LMIo4Uw7es2t"
      },
      "execution_count": null,
      "outputs": []
    },
    {
      "cell_type": "code",
      "source": [
        "# Paso 6. Abrir el Job \n",
        "cliente_ml.open_job(job_id=jobname)\n",
        "sleep(5)"
      ],
      "metadata": {
        "id": "cS4jQ-gqt3hY"
      },
      "execution_count": null,
      "outputs": []
    },
    {
      "cell_type": "code",
      "source": [
        "# Paso 7. Avanzamos datafeed desde la fecha de fin de incidencia hasta la fecha actual\n",
        "cliente_ml.start_datafeed(datafeed_id=datafeed_id, start=str(int(fecha_fin_incidencia)))"
      ],
      "metadata": {
        "colab": {
          "base_uri": "https://localhost:8080/"
        },
        "id": "aI8tSEvyet-d",
        "outputId": "ce495806-3a01-463b-945c-49d9a218c6d1"
      },
      "execution_count": null,
      "outputs": [
        {
          "output_type": "execute_result",
          "data": {
            "text/plain": [
              "ObjectApiResponse({'started': True, 'node': '1UbOBFWrRuiIttmnruod0A'})"
            ]
          },
          "metadata": {},
          "execution_count": 161
        }
      ]
    },
    {
      "cell_type": "markdown",
      "source": [
        "# Parte de Indices"
      ],
      "metadata": {
        "id": "ApNixb3H0-qk"
      }
    },
    {
      "cell_type": "code",
      "source": [
        "#!pip install eland\n",
        "#!pip install elasticsearch"
      ],
      "metadata": {
        "id": "cEktGNiU-yQe",
        "outputId": "21a56249-2d7d-4b41-cfd0-b2fcb0d2c662",
        "colab": {
          "base_uri": "https://localhost:8080/"
        }
      },
      "execution_count": 4,
      "outputs": [
        {
          "output_type": "stream",
          "name": "stdout",
          "text": [
            "Looking in indexes: https://pypi.org/simple, https://us-python.pkg.dev/colab-wheels/public/simple/\n",
            "Collecting eland\n",
            "  Downloading eland-8.3.0-py3-none-any.whl (143 kB)\n",
            "\u001b[K     |████████████████████████████████| 143 kB 5.0 MB/s \n",
            "\u001b[?25hRequirement already satisfied: matplotlib<4 in /usr/local/lib/python3.7/dist-packages (from eland) (3.2.2)\n",
            "Requirement already satisfied: numpy<2 in /usr/local/lib/python3.7/dist-packages (from eland) (1.21.6)\n",
            "Collecting elasticsearch<9,>=8.3\n",
            "  Downloading elasticsearch-8.5.2-py3-none-any.whl (385 kB)\n",
            "\u001b[K     |████████████████████████████████| 385 kB 35.1 MB/s \n",
            "\u001b[?25hRequirement already satisfied: pandas<2,>=1.2 in /usr/local/lib/python3.7/dist-packages (from eland) (1.3.5)\n",
            "Collecting elastic-transport<9,>=8\n",
            "  Downloading elastic_transport-8.4.0-py3-none-any.whl (59 kB)\n",
            "\u001b[K     |████████████████████████████████| 59 kB 4.2 MB/s \n",
            "\u001b[?25hRequirement already satisfied: certifi in /usr/local/lib/python3.7/dist-packages (from elastic-transport<9,>=8->elasticsearch<9,>=8.3->eland) (2022.9.24)\n",
            "Collecting urllib3<2,>=1.26.2\n",
            "  Downloading urllib3-1.26.13-py2.py3-none-any.whl (140 kB)\n",
            "\u001b[K     |████████████████████████████████| 140 kB 58.6 MB/s \n",
            "\u001b[?25hRequirement already satisfied: pyparsing!=2.0.4,!=2.1.2,!=2.1.6,>=2.0.1 in /usr/local/lib/python3.7/dist-packages (from matplotlib<4->eland) (3.0.9)\n",
            "Requirement already satisfied: cycler>=0.10 in /usr/local/lib/python3.7/dist-packages (from matplotlib<4->eland) (0.11.0)\n",
            "Requirement already satisfied: python-dateutil>=2.1 in /usr/local/lib/python3.7/dist-packages (from matplotlib<4->eland) (2.8.2)\n",
            "Requirement already satisfied: kiwisolver>=1.0.1 in /usr/local/lib/python3.7/dist-packages (from matplotlib<4->eland) (1.4.4)\n",
            "Requirement already satisfied: typing-extensions in /usr/local/lib/python3.7/dist-packages (from kiwisolver>=1.0.1->matplotlib<4->eland) (4.1.1)\n",
            "Requirement already satisfied: pytz>=2017.3 in /usr/local/lib/python3.7/dist-packages (from pandas<2,>=1.2->eland) (2022.6)\n",
            "Requirement already satisfied: six>=1.5 in /usr/local/lib/python3.7/dist-packages (from python-dateutil>=2.1->matplotlib<4->eland) (1.15.0)\n",
            "Installing collected packages: urllib3, elastic-transport, elasticsearch, eland\n",
            "  Attempting uninstall: urllib3\n",
            "    Found existing installation: urllib3 1.24.3\n",
            "    Uninstalling urllib3-1.24.3:\n",
            "      Successfully uninstalled urllib3-1.24.3\n",
            "\u001b[31mERROR: pip's dependency resolver does not currently take into account all the packages that are installed. This behaviour is the source of the following dependency conflicts.\n",
            "requests 2.23.0 requires urllib3!=1.25.0,!=1.25.1,<1.26,>=1.21.1, but you have urllib3 1.26.13 which is incompatible.\u001b[0m\n",
            "Successfully installed eland-8.3.0 elastic-transport-8.4.0 elasticsearch-8.5.2 urllib3-1.26.13\n",
            "Looking in indexes: https://pypi.org/simple, https://us-python.pkg.dev/colab-wheels/public/simple/\n",
            "Requirement already satisfied: elasticsearch in /usr/local/lib/python3.7/dist-packages (8.5.2)\n",
            "Requirement already satisfied: elastic-transport<9,>=8 in /usr/local/lib/python3.7/dist-packages (from elasticsearch) (8.4.0)\n",
            "Requirement already satisfied: certifi in /usr/local/lib/python3.7/dist-packages (from elastic-transport<9,>=8->elasticsearch) (2022.9.24)\n",
            "Requirement already satisfied: urllib3<2,>=1.26.2 in /usr/local/lib/python3.7/dist-packages (from elastic-transport<9,>=8->elasticsearch) (1.26.13)\n"
          ]
        }
      ]
    },
    {
      "cell_type": "code",
      "source": [
        "# Importacion de modulos \n",
        "import elasticsearch\n",
        "import numpy as np\n",
        "from elasticsearch import Elasticsearch\n",
        "from elasticsearch import client\n",
        "from datetime import datetime\n",
        "from time import sleep\n",
        "from elasticsearch.client import IndicesClient\n",
        "import eland as ed\n",
        "import pandas as pd\n",
        "from elasticsearch.client import IngestClient"
      ],
      "metadata": {
        "id": "zye1jStu1AQq"
      },
      "execution_count": 22,
      "outputs": []
    },
    {
      "cell_type": "markdown",
      "source": [
        "# Inputs"
      ],
      "metadata": {
        "id": "21GAIsji3_pV"
      }
    },
    {
      "cell_type": "code",
      "source": [
        "# Informacion sobre la incidencia\n",
        "fecha_inicio_incidencia = \"2022-03-04 23:50:00\" # Meter la hora segun timezone, no en UTC\n",
        "fecha_fin_incidencia    = \"2022-03-06 00:10:00\" # Meter la hora según timezone, no en UTC\n",
        "\n",
        "# Nombre del Job de Elastic\n",
        "jobname                 = \"sabado_anomalia\"\n",
        "variable_name_predict   = \"y_an\"\n",
        "\n",
        "# Nombre del indice sobre el que se realiza el Job\n",
        "index_data              = 'sabado_incidencia'"
      ],
      "metadata": {
        "id": "XGAOWWfn4BQd"
      },
      "execution_count": 6,
      "outputs": []
    },
    {
      "cell_type": "markdown",
      "source": [
        "# Nuevas variables"
      ],
      "metadata": {
        "id": "5n62EqUJKiXE"
      }
    },
    {
      "cell_type": "code",
      "source": [
        "# Calculo del offset por cambio de hora\n",
        "\n",
        "# Timestamps fechas incidencia\n",
        "fecha_inicio_incidencia = datetime.strptime(fecha_inicio_incidencia, '%Y-%m-%d %H:%M:%S')\n",
        "fecha_inicio_incidencia_timestamp = datetime.timestamp(fecha_inicio_incidencia)*1000\n",
        "\n",
        "fecha_fin_incidencia = datetime.strptime(fecha_fin_incidencia, '%Y-%m-%d %H:%M:%S')\n",
        "fecha_fin_incidencia_timestamp = datetime.timestamp(fecha_fin_incidencia)*1000\n",
        "\n",
        "# Timestamps de las fechas de cambio de hora\n",
        "\n",
        "# Primer cambio de hora\n",
        "fecha_cambio_hora_1 = \"2022-03-27 02:00:00\" \n",
        "fecha_cambio_hora_1 = datetime.strptime(fecha_cambio_hora_1, '%Y-%m-%d %H:%M:%S')\n",
        "fecha_cambio_hora_1_timestamp = datetime.timestamp(fecha_cambio_hora_1)*1000\n",
        "\n",
        "# Segundo cambio de hora\n",
        "fecha_cambio_hora_2 = \"2022-10-30 02:00:00\" \n",
        "fecha_cambio_hora_2 = datetime.strptime(fecha_cambio_hora_2, '%Y-%m-%d %H:%M:%S')\n",
        "fecha_cambio_hora_2_timestamp = datetime.timestamp(fecha_cambio_hora_2)*1000\n",
        "\n",
        "# Comparamos fechas en el mismo año \n",
        "fecha_inicio_incidencia_cambio_timestamp = (datetime(2022, fecha_inicio_incidencia.month, fecha_inicio_incidencia.day, fecha_inicio_incidencia.hour, fecha_inicio_incidencia.minute, fecha_inicio_incidencia.second).timestamp())*1000 \n",
        "\n",
        "if (fecha_inicio_incidencia_cambio_timestamp < fecha_cambio_hora_1_timestamp):\n",
        "    offset_1 = -3600 \n",
        "\n",
        "if ((fecha_inicio_incidencia_cambio_timestamp > fecha_cambio_hora_1_timestamp) and (fecha_inicio_incidencia_cambio_timestamp < fecha_cambio_hora_2_timestamp)):\n",
        "  offset_1 = -7200\n",
        "\n",
        "if (fecha_cambio_hora_2_timestamp < fecha_inicio_incidencia_cambio_timestamp):\n",
        "  offset_1 = -3600  \n",
        "\n",
        "fecha_fin_incidencia_cambio_timestamp = (datetime(2022, fecha_fin_incidencia.month, fecha_fin_incidencia.day, fecha_fin_incidencia.hour, fecha_fin_incidencia.minute, fecha_fin_incidencia.second).timestamp())*1000 \n",
        "\n",
        "if (fecha_fin_incidencia_cambio_timestamp < fecha_cambio_hora_1_timestamp):\n",
        "    offset_2 = -3600 \n",
        "\n",
        "if ((fecha_fin_incidencia_cambio_timestamp > fecha_cambio_hora_1_timestamp) and (fecha_fin_incidencia_cambio_timestamp < fecha_cambio_hora_2_timestamp)):\n",
        "  offset_2 = -7200\n",
        "\n",
        "if (fecha_cambio_hora_2_timestamp < fecha_fin_incidencia_cambio_timestamp):\n",
        "  offset_2 = -3600  "
      ],
      "metadata": {
        "id": "sMl1DrpJKkdc"
      },
      "execution_count": 7,
      "outputs": []
    },
    {
      "cell_type": "code",
      "source": [
        "# Transformacion de variables de entrada\n",
        "# Fechas\n",
        "fecha_inicio_incidencia = (fecha_inicio_incidencia_timestamp + offset_1*1000)/1000\n",
        "fecha_fin_incidencia    = (fecha_fin_incidencia_timestamp + offset_2*1000)/1000\n",
        "\n",
        "fecha_inicio_incidencia_datetime = datetime.fromtimestamp(fecha_inicio_incidencia)\n",
        "fecha_fin_incidencia_datetime = datetime.fromtimestamp(fecha_fin_incidencia)\n",
        "\n",
        "# Nombre del Datafeed\n",
        "datafeed_id = \"datafeed-\" + jobname"
      ],
      "metadata": {
        "id": "XJClAMIsKulK"
      },
      "execution_count": 8,
      "outputs": []
    },
    {
      "cell_type": "code",
      "source": [
        "fecha_inicio_incidencia_datetime"
      ],
      "metadata": {
        "id": "nJc-0WHqLrYn",
        "outputId": "be9300bc-9c9d-4c56-eab6-b33b23b8fed5",
        "colab": {
          "base_uri": "https://localhost:8080/"
        }
      },
      "execution_count": null,
      "outputs": [
        {
          "output_type": "execute_result",
          "data": {
            "text/plain": [
              "datetime.datetime(2022, 3, 4, 22, 50)"
            ]
          },
          "metadata": {},
          "execution_count": 112
        }
      ]
    },
    {
      "cell_type": "code",
      "source": [
        "# Datos de la conexion con el servidor de Elastic\n",
        "ELASTIC_PASSWORD = \"9QJVpAsI1dfU33vZpc072VTd\"\n",
        "CLOUD_ID = \"SeriestemporalesElastic:dXMtY2VudHJhbDEuZ2NwLmNsb3VkLmVzLmlvOjQ0MyQxMmRiODkwZjhhN2U0YTVjOTAwMDViODMyZjhlYWViNCRjMmU4YmQxYjkzZTI0MGY5OTZiYzIyNTFkZGMxMGY4Yg==\"\n",
        "\n",
        "es_client = Elasticsearch(\n",
        "    cloud_id=CLOUD_ID,\n",
        "    basic_auth=(\"elastic\", ELASTIC_PASSWORD)\n",
        ")\n",
        "cliente_index = IndicesClient(client=es_client)"
      ],
      "metadata": {
        "id": "y8yeQ6qA1FFA"
      },
      "execution_count": 10,
      "outputs": []
    },
    {
      "cell_type": "code",
      "source": [
        "# Creacion del Indice de Backup\n",
        "indexname = 'indicebackup'\n",
        "try:\n",
        "  cliente_index.create(index=indexname)\n",
        "except:\n",
        "  cliente_index.delete(index=indexname)\n",
        "  cliente_index.create(index=indexname)"
      ],
      "metadata": {
        "id": "IF2xwwwC1WGI"
      },
      "execution_count": 11,
      "outputs": []
    },
    {
      "cell_type": "code",
      "source": [
        "# Reindexar datos de la anomalia al indice backup (me queda hacer el filtro de solo el tiempo de anomalia)\n",
        "cliente_index.reindex(source=index_data, dest=indexname)"
      ],
      "metadata": {
        "id": "F3CUSHqx4stO",
        "outputId": "e47aa300-02ca-46a8-d779-b200f84c7e6b",
        "colab": {
          "base_uri": "https://localhost:8080/",
          "height": 183
        }
      },
      "execution_count": null,
      "outputs": [
        {
          "output_type": "error",
          "ename": "AttributeError",
          "evalue": "ignored",
          "traceback": [
            "\u001b[0;31m---------------------------------------------------------------------------\u001b[0m",
            "\u001b[0;31mAttributeError\u001b[0m                            Traceback (most recent call last)",
            "\u001b[0;32m<ipython-input-115-e006065aeda9>\u001b[0m in \u001b[0;36m<module>\u001b[0;34m\u001b[0m\n\u001b[1;32m      1\u001b[0m \u001b[0;31m# Reindexar datos de la anomalia al indice backup (me queda hacer el filtro de solo el tiempo de anomalia)\u001b[0m\u001b[0;34m\u001b[0m\u001b[0;34m\u001b[0m\u001b[0;34m\u001b[0m\u001b[0m\n\u001b[0;32m----> 2\u001b[0;31m \u001b[0mcliente_index\u001b[0m\u001b[0;34m.\u001b[0m\u001b[0mreindex\u001b[0m\u001b[0;34m(\u001b[0m\u001b[0msource\u001b[0m\u001b[0;34m=\u001b[0m\u001b[0mindex_data\u001b[0m\u001b[0;34m,\u001b[0m \u001b[0mdest\u001b[0m\u001b[0;34m=\u001b[0m\u001b[0mindexname\u001b[0m\u001b[0;34m)\u001b[0m\u001b[0;34m\u001b[0m\u001b[0;34m\u001b[0m\u001b[0m\n\u001b[0m",
            "\u001b[0;31mAttributeError\u001b[0m: 'IndicesClient' object has no attribute 'reindex'"
          ]
        }
      ]
    },
    {
      "cell_type": "code",
      "source": [
        "# Obtener datos de la prediccion del Job para el tiempo de anomalia\n",
        "df = ed.DataFrame(es_client, es_index_pattern=\".ml-anomalies-shared\")\n",
        "# Filtramos para nuestro job de interes\n",
        "df = df[df[\"job_id\"] == jobname]\n",
        "# Obtenemos las columnas de interes del dataframe\n",
        "df_select = df[[\"timestamp\", \"model_median\", \"model_upper\"]]\n",
        "# Eliminar filas con valores nulos\n",
        "df_select = ed.eland_to_pandas(df_select)\n",
        "df_select = df_select.dropna()\n",
        "df_select.head(20)\n",
        "# Ordenamos filas por timestamp\n",
        "df_select.timestamp\n",
        "# Seleccionamos timestamp de interes\n",
        "df_select.head(20)"
      ],
      "metadata": {
        "id": "cn5Zl2a81iBm",
        "outputId": "c40367f8-4d38-4fac-d491-6ce88ba4d136",
        "colab": {
          "base_uri": "https://localhost:8080/",
          "height": 676
        }
      },
      "execution_count": 12,
      "outputs": [
        {
          "output_type": "execute_result",
          "data": {
            "text/plain": [
              "                                                             timestamp  \\\n",
              "sabado_anomalia_model_plot_1641108600000_600_0_0_0 2022-01-02 07:30:00   \n",
              "sabado_anomalia_model_plot_1641109200000_600_0_0_0 2022-01-02 07:40:00   \n",
              "sabado_anomalia_model_plot_1641109800000_600_0_0_0 2022-01-02 07:50:00   \n",
              "sabado_anomalia_model_plot_1641110400000_600_0_0_0 2022-01-02 08:00:00   \n",
              "sabado_anomalia_model_plot_1641111000000_600_0_0_0 2022-01-02 08:10:00   \n",
              "sabado_anomalia_model_plot_1641111600000_600_0_0_0 2022-01-02 08:20:00   \n",
              "sabado_anomalia_model_plot_1641112200000_600_0_0_0 2022-01-02 08:30:00   \n",
              "sabado_anomalia_model_plot_1641112800000_600_0_0_0 2022-01-02 08:40:00   \n",
              "sabado_anomalia_model_plot_1641113400000_600_0_0_0 2022-01-02 08:50:00   \n",
              "sabado_anomalia_model_plot_1641114000000_600_0_0_0 2022-01-02 09:00:00   \n",
              "sabado_anomalia_model_plot_1641114600000_600_0_0_0 2022-01-02 09:10:00   \n",
              "sabado_anomalia_model_plot_1641115200000_600_0_0_0 2022-01-02 09:20:00   \n",
              "sabado_anomalia_model_plot_1641115800000_600_0_0_0 2022-01-02 09:30:00   \n",
              "sabado_anomalia_model_plot_1641116400000_600_0_0_0 2022-01-02 09:40:00   \n",
              "sabado_anomalia_model_plot_1641117000000_600_0_0_0 2022-01-02 09:50:00   \n",
              "sabado_anomalia_model_plot_1641117600000_600_0_0_0 2022-01-02 10:00:00   \n",
              "sabado_anomalia_model_plot_1641118200000_600_0_0_0 2022-01-02 10:10:00   \n",
              "sabado_anomalia_model_plot_1641118800000_600_0_0_0 2022-01-02 10:20:00   \n",
              "sabado_anomalia_model_plot_1641119400000_600_0_0_0 2022-01-02 10:30:00   \n",
              "sabado_anomalia_model_plot_1641120000000_600_0_0_0 2022-01-02 10:40:00   \n",
              "\n",
              "                                                    model_median  model_upper  \n",
              "sabado_anomalia_model_plot_1641108600000_600_0_0_0    730.720582   970.417156  \n",
              "sabado_anomalia_model_plot_1641109200000_600_0_0_0    733.142097   980.683989  \n",
              "sabado_anomalia_model_plot_1641109800000_600_0_0_0    737.074255   981.281696  \n",
              "sabado_anomalia_model_plot_1641110400000_600_0_0_0    746.954375   948.065246  \n",
              "sabado_anomalia_model_plot_1641111000000_600_0_0_0    745.925155   948.629392  \n",
              "sabado_anomalia_model_plot_1641111600000_600_0_0_0    744.179300   949.583249  \n",
              "sabado_anomalia_model_plot_1641112200000_600_0_0_0    741.907749   950.261045  \n",
              "sabado_anomalia_model_plot_1641112800000_600_0_0_0    739.130187   950.595557  \n",
              "sabado_anomalia_model_plot_1641113400000_600_0_0_0    735.833594   950.685110  \n",
              "sabado_anomalia_model_plot_1641114000000_600_0_0_0    732.048903   950.408468  \n",
              "sabado_anomalia_model_plot_1641114600000_600_0_0_0    727.783332   949.764543  \n",
              "sabado_anomalia_model_plot_1641115200000_600_0_0_0    723.044684   948.751799  \n",
              "sabado_anomalia_model_plot_1641115800000_600_0_0_0    717.841356   947.369527  \n",
              "sabado_anomalia_model_plot_1641116400000_600_0_0_0    712.182349   945.616825  \n",
              "sabado_anomalia_model_plot_1641117000000_600_0_0_0    706.077264   943.493785  \n",
              "sabado_anomalia_model_plot_1641117600000_600_0_0_0    699.536307   941.000297  \n",
              "sabado_anomalia_model_plot_1641118200000_600_0_0_0    692.570281   938.137714  \n",
              "sabado_anomalia_model_plot_1641118800000_600_0_0_0    685.190581   934.907041  \n",
              "sabado_anomalia_model_plot_1641119400000_600_0_0_0    677.409189   931.310060  \n",
              "sabado_anomalia_model_plot_1641120000000_600_0_0_0    669.238659   927.349966  "
            ],
            "text/html": [
              "\n",
              "  <div id=\"df-6b3add6d-d432-430d-a1a3-dd7ec0a35599\">\n",
              "    <div class=\"colab-df-container\">\n",
              "      <div>\n",
              "<style scoped>\n",
              "    .dataframe tbody tr th:only-of-type {\n",
              "        vertical-align: middle;\n",
              "    }\n",
              "\n",
              "    .dataframe tbody tr th {\n",
              "        vertical-align: top;\n",
              "    }\n",
              "\n",
              "    .dataframe thead th {\n",
              "        text-align: right;\n",
              "    }\n",
              "</style>\n",
              "<table border=\"1\" class=\"dataframe\">\n",
              "  <thead>\n",
              "    <tr style=\"text-align: right;\">\n",
              "      <th></th>\n",
              "      <th>timestamp</th>\n",
              "      <th>model_median</th>\n",
              "      <th>model_upper</th>\n",
              "    </tr>\n",
              "  </thead>\n",
              "  <tbody>\n",
              "    <tr>\n",
              "      <th>sabado_anomalia_model_plot_1641108600000_600_0_0_0</th>\n",
              "      <td>2022-01-02 07:30:00</td>\n",
              "      <td>730.720582</td>\n",
              "      <td>970.417156</td>\n",
              "    </tr>\n",
              "    <tr>\n",
              "      <th>sabado_anomalia_model_plot_1641109200000_600_0_0_0</th>\n",
              "      <td>2022-01-02 07:40:00</td>\n",
              "      <td>733.142097</td>\n",
              "      <td>980.683989</td>\n",
              "    </tr>\n",
              "    <tr>\n",
              "      <th>sabado_anomalia_model_plot_1641109800000_600_0_0_0</th>\n",
              "      <td>2022-01-02 07:50:00</td>\n",
              "      <td>737.074255</td>\n",
              "      <td>981.281696</td>\n",
              "    </tr>\n",
              "    <tr>\n",
              "      <th>sabado_anomalia_model_plot_1641110400000_600_0_0_0</th>\n",
              "      <td>2022-01-02 08:00:00</td>\n",
              "      <td>746.954375</td>\n",
              "      <td>948.065246</td>\n",
              "    </tr>\n",
              "    <tr>\n",
              "      <th>sabado_anomalia_model_plot_1641111000000_600_0_0_0</th>\n",
              "      <td>2022-01-02 08:10:00</td>\n",
              "      <td>745.925155</td>\n",
              "      <td>948.629392</td>\n",
              "    </tr>\n",
              "    <tr>\n",
              "      <th>sabado_anomalia_model_plot_1641111600000_600_0_0_0</th>\n",
              "      <td>2022-01-02 08:20:00</td>\n",
              "      <td>744.179300</td>\n",
              "      <td>949.583249</td>\n",
              "    </tr>\n",
              "    <tr>\n",
              "      <th>sabado_anomalia_model_plot_1641112200000_600_0_0_0</th>\n",
              "      <td>2022-01-02 08:30:00</td>\n",
              "      <td>741.907749</td>\n",
              "      <td>950.261045</td>\n",
              "    </tr>\n",
              "    <tr>\n",
              "      <th>sabado_anomalia_model_plot_1641112800000_600_0_0_0</th>\n",
              "      <td>2022-01-02 08:40:00</td>\n",
              "      <td>739.130187</td>\n",
              "      <td>950.595557</td>\n",
              "    </tr>\n",
              "    <tr>\n",
              "      <th>sabado_anomalia_model_plot_1641113400000_600_0_0_0</th>\n",
              "      <td>2022-01-02 08:50:00</td>\n",
              "      <td>735.833594</td>\n",
              "      <td>950.685110</td>\n",
              "    </tr>\n",
              "    <tr>\n",
              "      <th>sabado_anomalia_model_plot_1641114000000_600_0_0_0</th>\n",
              "      <td>2022-01-02 09:00:00</td>\n",
              "      <td>732.048903</td>\n",
              "      <td>950.408468</td>\n",
              "    </tr>\n",
              "    <tr>\n",
              "      <th>sabado_anomalia_model_plot_1641114600000_600_0_0_0</th>\n",
              "      <td>2022-01-02 09:10:00</td>\n",
              "      <td>727.783332</td>\n",
              "      <td>949.764543</td>\n",
              "    </tr>\n",
              "    <tr>\n",
              "      <th>sabado_anomalia_model_plot_1641115200000_600_0_0_0</th>\n",
              "      <td>2022-01-02 09:20:00</td>\n",
              "      <td>723.044684</td>\n",
              "      <td>948.751799</td>\n",
              "    </tr>\n",
              "    <tr>\n",
              "      <th>sabado_anomalia_model_plot_1641115800000_600_0_0_0</th>\n",
              "      <td>2022-01-02 09:30:00</td>\n",
              "      <td>717.841356</td>\n",
              "      <td>947.369527</td>\n",
              "    </tr>\n",
              "    <tr>\n",
              "      <th>sabado_anomalia_model_plot_1641116400000_600_0_0_0</th>\n",
              "      <td>2022-01-02 09:40:00</td>\n",
              "      <td>712.182349</td>\n",
              "      <td>945.616825</td>\n",
              "    </tr>\n",
              "    <tr>\n",
              "      <th>sabado_anomalia_model_plot_1641117000000_600_0_0_0</th>\n",
              "      <td>2022-01-02 09:50:00</td>\n",
              "      <td>706.077264</td>\n",
              "      <td>943.493785</td>\n",
              "    </tr>\n",
              "    <tr>\n",
              "      <th>sabado_anomalia_model_plot_1641117600000_600_0_0_0</th>\n",
              "      <td>2022-01-02 10:00:00</td>\n",
              "      <td>699.536307</td>\n",
              "      <td>941.000297</td>\n",
              "    </tr>\n",
              "    <tr>\n",
              "      <th>sabado_anomalia_model_plot_1641118200000_600_0_0_0</th>\n",
              "      <td>2022-01-02 10:10:00</td>\n",
              "      <td>692.570281</td>\n",
              "      <td>938.137714</td>\n",
              "    </tr>\n",
              "    <tr>\n",
              "      <th>sabado_anomalia_model_plot_1641118800000_600_0_0_0</th>\n",
              "      <td>2022-01-02 10:20:00</td>\n",
              "      <td>685.190581</td>\n",
              "      <td>934.907041</td>\n",
              "    </tr>\n",
              "    <tr>\n",
              "      <th>sabado_anomalia_model_plot_1641119400000_600_0_0_0</th>\n",
              "      <td>2022-01-02 10:30:00</td>\n",
              "      <td>677.409189</td>\n",
              "      <td>931.310060</td>\n",
              "    </tr>\n",
              "    <tr>\n",
              "      <th>sabado_anomalia_model_plot_1641120000000_600_0_0_0</th>\n",
              "      <td>2022-01-02 10:40:00</td>\n",
              "      <td>669.238659</td>\n",
              "      <td>927.349966</td>\n",
              "    </tr>\n",
              "  </tbody>\n",
              "</table>\n",
              "</div>\n",
              "      <button class=\"colab-df-convert\" onclick=\"convertToInteractive('df-6b3add6d-d432-430d-a1a3-dd7ec0a35599')\"\n",
              "              title=\"Convert this dataframe to an interactive table.\"\n",
              "              style=\"display:none;\">\n",
              "        \n",
              "  <svg xmlns=\"http://www.w3.org/2000/svg\" height=\"24px\"viewBox=\"0 0 24 24\"\n",
              "       width=\"24px\">\n",
              "    <path d=\"M0 0h24v24H0V0z\" fill=\"none\"/>\n",
              "    <path d=\"M18.56 5.44l.94 2.06.94-2.06 2.06-.94-2.06-.94-.94-2.06-.94 2.06-2.06.94zm-11 1L8.5 8.5l.94-2.06 2.06-.94-2.06-.94L8.5 2.5l-.94 2.06-2.06.94zm10 10l.94 2.06.94-2.06 2.06-.94-2.06-.94-.94-2.06-.94 2.06-2.06.94z\"/><path d=\"M17.41 7.96l-1.37-1.37c-.4-.4-.92-.59-1.43-.59-.52 0-1.04.2-1.43.59L10.3 9.45l-7.72 7.72c-.78.78-.78 2.05 0 2.83L4 21.41c.39.39.9.59 1.41.59.51 0 1.02-.2 1.41-.59l7.78-7.78 2.81-2.81c.8-.78.8-2.07 0-2.86zM5.41 20L4 18.59l7.72-7.72 1.47 1.35L5.41 20z\"/>\n",
              "  </svg>\n",
              "      </button>\n",
              "      \n",
              "  <style>\n",
              "    .colab-df-container {\n",
              "      display:flex;\n",
              "      flex-wrap:wrap;\n",
              "      gap: 12px;\n",
              "    }\n",
              "\n",
              "    .colab-df-convert {\n",
              "      background-color: #E8F0FE;\n",
              "      border: none;\n",
              "      border-radius: 50%;\n",
              "      cursor: pointer;\n",
              "      display: none;\n",
              "      fill: #1967D2;\n",
              "      height: 32px;\n",
              "      padding: 0 0 0 0;\n",
              "      width: 32px;\n",
              "    }\n",
              "\n",
              "    .colab-df-convert:hover {\n",
              "      background-color: #E2EBFA;\n",
              "      box-shadow: 0px 1px 2px rgba(60, 64, 67, 0.3), 0px 1px 3px 1px rgba(60, 64, 67, 0.15);\n",
              "      fill: #174EA6;\n",
              "    }\n",
              "\n",
              "    [theme=dark] .colab-df-convert {\n",
              "      background-color: #3B4455;\n",
              "      fill: #D2E3FC;\n",
              "    }\n",
              "\n",
              "    [theme=dark] .colab-df-convert:hover {\n",
              "      background-color: #434B5C;\n",
              "      box-shadow: 0px 1px 3px 1px rgba(0, 0, 0, 0.15);\n",
              "      filter: drop-shadow(0px 1px 2px rgba(0, 0, 0, 0.3));\n",
              "      fill: #FFFFFF;\n",
              "    }\n",
              "  </style>\n",
              "\n",
              "      <script>\n",
              "        const buttonEl =\n",
              "          document.querySelector('#df-6b3add6d-d432-430d-a1a3-dd7ec0a35599 button.colab-df-convert');\n",
              "        buttonEl.style.display =\n",
              "          google.colab.kernel.accessAllowed ? 'block' : 'none';\n",
              "\n",
              "        async function convertToInteractive(key) {\n",
              "          const element = document.querySelector('#df-6b3add6d-d432-430d-a1a3-dd7ec0a35599');\n",
              "          const dataTable =\n",
              "            await google.colab.kernel.invokeFunction('convertToInteractive',\n",
              "                                                     [key], {});\n",
              "          if (!dataTable) return;\n",
              "\n",
              "          const docLinkHtml = 'Like what you see? Visit the ' +\n",
              "            '<a target=\"_blank\" href=https://colab.research.google.com/notebooks/data_table.ipynb>data table notebook</a>'\n",
              "            + ' to learn more about interactive tables.';\n",
              "          element.innerHTML = '';\n",
              "          dataTable['output_type'] = 'display_data';\n",
              "          await google.colab.output.renderOutput(dataTable, element);\n",
              "          const docLink = document.createElement('div');\n",
              "          docLink.innerHTML = docLinkHtml;\n",
              "          element.appendChild(docLink);\n",
              "        }\n",
              "      </script>\n",
              "    </div>\n",
              "  </div>\n",
              "  "
            ]
          },
          "metadata": {},
          "execution_count": 12
        }
      ]
    },
    {
      "cell_type": "code",
      "source": [
        "df_select['timestamp'] = pd.to_datetime(df_select.timestamp)"
      ],
      "metadata": {
        "id": "IJGAn3fgGlfK"
      },
      "execution_count": 13,
      "outputs": []
    },
    {
      "cell_type": "code",
      "source": [
        "df_select_order = df_select.sort_values(by=\"timestamp\", ascending=True)"
      ],
      "metadata": {
        "id": "E_KDSKoM_Gz8"
      },
      "execution_count": 14,
      "outputs": []
    },
    {
      "cell_type": "code",
      "source": [
        "df_select_order = df_select_order.set_index(\"timestamp\")\n",
        "df_select_order.head(20)"
      ],
      "metadata": {
        "id": "s2pNPEIoGvZm",
        "outputId": "d901d01d-fe2b-486c-a293-07e0a6f5e671",
        "colab": {
          "base_uri": "https://localhost:8080/",
          "height": 707
        }
      },
      "execution_count": 15,
      "outputs": [
        {
          "output_type": "execute_result",
          "data": {
            "text/plain": [
              "                     model_median  model_upper\n",
              "timestamp                                     \n",
              "2021-12-31 23:00:00      0.000000     0.000000\n",
              "2021-12-31 23:10:00      0.000000     0.000000\n",
              "2021-12-31 23:20:00      0.000000     0.000000\n",
              "2021-12-31 23:30:00      0.000000     0.000000\n",
              "2021-12-31 23:40:00      0.000000     0.000000\n",
              "2021-12-31 23:50:00      0.000000     0.000000\n",
              "2022-01-01 00:00:00      0.000000     0.000000\n",
              "2022-01-01 00:10:00      0.000000     0.000000\n",
              "2022-01-01 00:20:00      0.000000     0.000000\n",
              "2022-01-01 00:30:00      0.000000     0.000000\n",
              "2022-01-01 00:40:00    361.367008   480.559817\n",
              "2022-01-01 00:50:00    367.091679   496.388558\n",
              "2022-01-01 01:00:00    372.748836   511.820060\n",
              "2022-01-01 01:10:00    378.338802   526.825569\n",
              "2022-01-01 01:20:00    383.859989   541.392142\n",
              "2022-01-01 01:30:00    389.310257   555.510090\n",
              "2022-01-01 01:40:00    394.686939   569.171302\n",
              "2022-01-01 01:50:00    399.986973   582.368358\n",
              "2022-01-01 02:00:00    405.207093   595.094101\n",
              "2022-01-01 02:10:00    410.343934   607.341359"
            ],
            "text/html": [
              "\n",
              "  <div id=\"df-bae1cb1d-008f-4726-bf23-09453ebd1777\">\n",
              "    <div class=\"colab-df-container\">\n",
              "      <div>\n",
              "<style scoped>\n",
              "    .dataframe tbody tr th:only-of-type {\n",
              "        vertical-align: middle;\n",
              "    }\n",
              "\n",
              "    .dataframe tbody tr th {\n",
              "        vertical-align: top;\n",
              "    }\n",
              "\n",
              "    .dataframe thead th {\n",
              "        text-align: right;\n",
              "    }\n",
              "</style>\n",
              "<table border=\"1\" class=\"dataframe\">\n",
              "  <thead>\n",
              "    <tr style=\"text-align: right;\">\n",
              "      <th></th>\n",
              "      <th>model_median</th>\n",
              "      <th>model_upper</th>\n",
              "    </tr>\n",
              "    <tr>\n",
              "      <th>timestamp</th>\n",
              "      <th></th>\n",
              "      <th></th>\n",
              "    </tr>\n",
              "  </thead>\n",
              "  <tbody>\n",
              "    <tr>\n",
              "      <th>2021-12-31 23:00:00</th>\n",
              "      <td>0.000000</td>\n",
              "      <td>0.000000</td>\n",
              "    </tr>\n",
              "    <tr>\n",
              "      <th>2021-12-31 23:10:00</th>\n",
              "      <td>0.000000</td>\n",
              "      <td>0.000000</td>\n",
              "    </tr>\n",
              "    <tr>\n",
              "      <th>2021-12-31 23:20:00</th>\n",
              "      <td>0.000000</td>\n",
              "      <td>0.000000</td>\n",
              "    </tr>\n",
              "    <tr>\n",
              "      <th>2021-12-31 23:30:00</th>\n",
              "      <td>0.000000</td>\n",
              "      <td>0.000000</td>\n",
              "    </tr>\n",
              "    <tr>\n",
              "      <th>2021-12-31 23:40:00</th>\n",
              "      <td>0.000000</td>\n",
              "      <td>0.000000</td>\n",
              "    </tr>\n",
              "    <tr>\n",
              "      <th>2021-12-31 23:50:00</th>\n",
              "      <td>0.000000</td>\n",
              "      <td>0.000000</td>\n",
              "    </tr>\n",
              "    <tr>\n",
              "      <th>2022-01-01 00:00:00</th>\n",
              "      <td>0.000000</td>\n",
              "      <td>0.000000</td>\n",
              "    </tr>\n",
              "    <tr>\n",
              "      <th>2022-01-01 00:10:00</th>\n",
              "      <td>0.000000</td>\n",
              "      <td>0.000000</td>\n",
              "    </tr>\n",
              "    <tr>\n",
              "      <th>2022-01-01 00:20:00</th>\n",
              "      <td>0.000000</td>\n",
              "      <td>0.000000</td>\n",
              "    </tr>\n",
              "    <tr>\n",
              "      <th>2022-01-01 00:30:00</th>\n",
              "      <td>0.000000</td>\n",
              "      <td>0.000000</td>\n",
              "    </tr>\n",
              "    <tr>\n",
              "      <th>2022-01-01 00:40:00</th>\n",
              "      <td>361.367008</td>\n",
              "      <td>480.559817</td>\n",
              "    </tr>\n",
              "    <tr>\n",
              "      <th>2022-01-01 00:50:00</th>\n",
              "      <td>367.091679</td>\n",
              "      <td>496.388558</td>\n",
              "    </tr>\n",
              "    <tr>\n",
              "      <th>2022-01-01 01:00:00</th>\n",
              "      <td>372.748836</td>\n",
              "      <td>511.820060</td>\n",
              "    </tr>\n",
              "    <tr>\n",
              "      <th>2022-01-01 01:10:00</th>\n",
              "      <td>378.338802</td>\n",
              "      <td>526.825569</td>\n",
              "    </tr>\n",
              "    <tr>\n",
              "      <th>2022-01-01 01:20:00</th>\n",
              "      <td>383.859989</td>\n",
              "      <td>541.392142</td>\n",
              "    </tr>\n",
              "    <tr>\n",
              "      <th>2022-01-01 01:30:00</th>\n",
              "      <td>389.310257</td>\n",
              "      <td>555.510090</td>\n",
              "    </tr>\n",
              "    <tr>\n",
              "      <th>2022-01-01 01:40:00</th>\n",
              "      <td>394.686939</td>\n",
              "      <td>569.171302</td>\n",
              "    </tr>\n",
              "    <tr>\n",
              "      <th>2022-01-01 01:50:00</th>\n",
              "      <td>399.986973</td>\n",
              "      <td>582.368358</td>\n",
              "    </tr>\n",
              "    <tr>\n",
              "      <th>2022-01-01 02:00:00</th>\n",
              "      <td>405.207093</td>\n",
              "      <td>595.094101</td>\n",
              "    </tr>\n",
              "    <tr>\n",
              "      <th>2022-01-01 02:10:00</th>\n",
              "      <td>410.343934</td>\n",
              "      <td>607.341359</td>\n",
              "    </tr>\n",
              "  </tbody>\n",
              "</table>\n",
              "</div>\n",
              "      <button class=\"colab-df-convert\" onclick=\"convertToInteractive('df-bae1cb1d-008f-4726-bf23-09453ebd1777')\"\n",
              "              title=\"Convert this dataframe to an interactive table.\"\n",
              "              style=\"display:none;\">\n",
              "        \n",
              "  <svg xmlns=\"http://www.w3.org/2000/svg\" height=\"24px\"viewBox=\"0 0 24 24\"\n",
              "       width=\"24px\">\n",
              "    <path d=\"M0 0h24v24H0V0z\" fill=\"none\"/>\n",
              "    <path d=\"M18.56 5.44l.94 2.06.94-2.06 2.06-.94-2.06-.94-.94-2.06-.94 2.06-2.06.94zm-11 1L8.5 8.5l.94-2.06 2.06-.94-2.06-.94L8.5 2.5l-.94 2.06-2.06.94zm10 10l.94 2.06.94-2.06 2.06-.94-2.06-.94-.94-2.06-.94 2.06-2.06.94z\"/><path d=\"M17.41 7.96l-1.37-1.37c-.4-.4-.92-.59-1.43-.59-.52 0-1.04.2-1.43.59L10.3 9.45l-7.72 7.72c-.78.78-.78 2.05 0 2.83L4 21.41c.39.39.9.59 1.41.59.51 0 1.02-.2 1.41-.59l7.78-7.78 2.81-2.81c.8-.78.8-2.07 0-2.86zM5.41 20L4 18.59l7.72-7.72 1.47 1.35L5.41 20z\"/>\n",
              "  </svg>\n",
              "      </button>\n",
              "      \n",
              "  <style>\n",
              "    .colab-df-container {\n",
              "      display:flex;\n",
              "      flex-wrap:wrap;\n",
              "      gap: 12px;\n",
              "    }\n",
              "\n",
              "    .colab-df-convert {\n",
              "      background-color: #E8F0FE;\n",
              "      border: none;\n",
              "      border-radius: 50%;\n",
              "      cursor: pointer;\n",
              "      display: none;\n",
              "      fill: #1967D2;\n",
              "      height: 32px;\n",
              "      padding: 0 0 0 0;\n",
              "      width: 32px;\n",
              "    }\n",
              "\n",
              "    .colab-df-convert:hover {\n",
              "      background-color: #E2EBFA;\n",
              "      box-shadow: 0px 1px 2px rgba(60, 64, 67, 0.3), 0px 1px 3px 1px rgba(60, 64, 67, 0.15);\n",
              "      fill: #174EA6;\n",
              "    }\n",
              "\n",
              "    [theme=dark] .colab-df-convert {\n",
              "      background-color: #3B4455;\n",
              "      fill: #D2E3FC;\n",
              "    }\n",
              "\n",
              "    [theme=dark] .colab-df-convert:hover {\n",
              "      background-color: #434B5C;\n",
              "      box-shadow: 0px 1px 3px 1px rgba(0, 0, 0, 0.15);\n",
              "      filter: drop-shadow(0px 1px 2px rgba(0, 0, 0, 0.3));\n",
              "      fill: #FFFFFF;\n",
              "    }\n",
              "  </style>\n",
              "\n",
              "      <script>\n",
              "        const buttonEl =\n",
              "          document.querySelector('#df-bae1cb1d-008f-4726-bf23-09453ebd1777 button.colab-df-convert');\n",
              "        buttonEl.style.display =\n",
              "          google.colab.kernel.accessAllowed ? 'block' : 'none';\n",
              "\n",
              "        async function convertToInteractive(key) {\n",
              "          const element = document.querySelector('#df-bae1cb1d-008f-4726-bf23-09453ebd1777');\n",
              "          const dataTable =\n",
              "            await google.colab.kernel.invokeFunction('convertToInteractive',\n",
              "                                                     [key], {});\n",
              "          if (!dataTable) return;\n",
              "\n",
              "          const docLinkHtml = 'Like what you see? Visit the ' +\n",
              "            '<a target=\"_blank\" href=https://colab.research.google.com/notebooks/data_table.ipynb>data table notebook</a>'\n",
              "            + ' to learn more about interactive tables.';\n",
              "          element.innerHTML = '';\n",
              "          dataTable['output_type'] = 'display_data';\n",
              "          await google.colab.output.renderOutput(dataTable, element);\n",
              "          const docLink = document.createElement('div');\n",
              "          docLink.innerHTML = docLinkHtml;\n",
              "          element.appendChild(docLink);\n",
              "        }\n",
              "      </script>\n",
              "    </div>\n",
              "  </div>\n",
              "  "
            ]
          },
          "metadata": {},
          "execution_count": 15
        }
      ]
    },
    {
      "cell_type": "code",
      "source": [
        "df_select_filter = df_select_order.loc[fecha_inicio_incidencia_datetime:fecha_fin_incidencia_datetime]"
      ],
      "metadata": {
        "id": "Xb-Q6iMjG-6A"
      },
      "execution_count": 16,
      "outputs": []
    },
    {
      "cell_type": "code",
      "source": [
        "# Hacer un rename del nombre de columna \"model_median\" al nombre de la variable que se predice en el JOB\n",
        "df_select_filter.rename(columns = {'model_median':variable_name_predict}, inplace = True)\n",
        "\n",
        "# Eliminar variable upper_name\n",
        "df_select_filter = df_select_filter.drop('model_upper', axis=1)"
      ],
      "metadata": {
        "id": "2kVsPAJYNCtu",
        "outputId": "0e4af1d6-7093-4c4b-9621-dc2957dfa68e",
        "colab": {
          "base_uri": "https://localhost:8080/"
        }
      },
      "execution_count": 18,
      "outputs": [
        {
          "output_type": "stream",
          "name": "stderr",
          "text": [
            "/usr/local/lib/python3.7/dist-packages/pandas/core/frame.py:5047: SettingWithCopyWarning: \n",
            "A value is trying to be set on a copy of a slice from a DataFrame\n",
            "\n",
            "See the caveats in the documentation: https://pandas.pydata.org/pandas-docs/stable/user_guide/indexing.html#returning-a-view-versus-a-copy\n",
            "  errors=errors,\n"
          ]
        }
      ]
    },
    {
      "cell_type": "code",
      "source": [
        "# Crear la pipeline de ingesta para @timestamp y parsear a un indice los datos teniendo cuidado con el timestamp\n",
        "df_select_filter = df_select_filter.reset_index()\n",
        "\n",
        "client_Ingest = IngestClient(client=es_client)"
      ],
      "metadata": {
        "id": "HLMIl7ipQXkr"
      },
      "execution_count": 23,
      "outputs": []
    },
    {
      "cell_type": "code",
      "source": [
        "# Eliminar del indice principal datos para el timestamp de la incidencia\n",
        "client_Ingest.put_pipeline(id='procesador_date_anomalias', body={\n",
        "    \"date\": {\n",
        "      \"field\": \"timestamp\",\n",
        "      \"formats\": [\n",
        "        \"UNIX_MS\"\n",
        "      ],\n",
        "      \"target_field\": \"@timestamp\"\n",
        "    }\n",
        "  })\n",
        "\n",
        "#[\n",
        "#  {\n",
        "#    \"date\": {\n",
        "#      \"field\": \"timestamp\",\n",
        "#      \"formats\": [\n",
        "#        \"UNIX_MS\"\n",
        "#      ],\n",
        "#      \"target_field\": \"@timestamp\"\n",
        "#    }\n",
        "#  }\n",
        "#]\n",
        "\n",
        "client_Ingest.put_pipeline(id='procesador_date_anomalias', body={\n",
        "    'description': \"Extract attachment information\",\n",
        "    'processors': [\n",
        "        {\"attachment\": {\"field\": \"cv\"}}\n",
        "    ]\n",
        "})"
      ],
      "metadata": {
        "id": "03wvlA3cNO0D",
        "outputId": "4bdc554d-f072-4d6a-ff77-b2f8473e7b8f",
        "colab": {
          "base_uri": "https://localhost:8080/",
          "height": 411
        }
      },
      "execution_count": 25,
      "outputs": [
        {
          "output_type": "stream",
          "name": "stderr",
          "text": [
            "/usr/local/lib/python3.7/dist-packages/ipykernel_launcher.py:8: DeprecationWarning: The 'body' parameter is deprecated and will be removed in a future version. Instead use individual parameters.\n",
            "  \n"
          ]
        },
        {
          "output_type": "error",
          "ename": "TypeError",
          "evalue": "ignored",
          "traceback": [
            "\u001b[0;31m---------------------------------------------------------------------------\u001b[0m",
            "\u001b[0;31mTypeError\u001b[0m                                 Traceback (most recent call last)",
            "\u001b[0;32m<ipython-input-25-692d37e992a8>\u001b[0m in \u001b[0;36m<module>\u001b[0;34m\u001b[0m\n\u001b[1;32m      6\u001b[0m         \u001b[0;34m\"UNIX_MS\"\u001b[0m\u001b[0;34m\u001b[0m\u001b[0;34m\u001b[0m\u001b[0m\n\u001b[1;32m      7\u001b[0m       ],\n\u001b[0;32m----> 8\u001b[0;31m       \u001b[0;34m\"target_field\"\u001b[0m\u001b[0;34m:\u001b[0m \u001b[0;34m\"@timestamp\"\u001b[0m\u001b[0;34m\u001b[0m\u001b[0;34m\u001b[0m\u001b[0m\n\u001b[0m\u001b[1;32m      9\u001b[0m     }\n\u001b[1;32m     10\u001b[0m   })\n",
            "\u001b[0;32m/usr/local/lib/python3.7/dist-packages/elasticsearch/_sync/client/utils.py\u001b[0m in \u001b[0;36mwrapped\u001b[0;34m(*args, **kwargs)\u001b[0m\n\u001b[1;32m    412\u001b[0m                         \u001b[0;32mpass\u001b[0m\u001b[0;34m\u001b[0m\u001b[0;34m\u001b[0m\u001b[0m\n\u001b[1;32m    413\u001b[0m \u001b[0;34m\u001b[0m\u001b[0m\n\u001b[0;32m--> 414\u001b[0;31m             \u001b[0;32mreturn\u001b[0m \u001b[0mapi\u001b[0m\u001b[0;34m(\u001b[0m\u001b[0;34m*\u001b[0m\u001b[0margs\u001b[0m\u001b[0;34m,\u001b[0m \u001b[0;34m**\u001b[0m\u001b[0mkwargs\u001b[0m\u001b[0;34m)\u001b[0m\u001b[0;34m\u001b[0m\u001b[0;34m\u001b[0m\u001b[0m\n\u001b[0m\u001b[1;32m    415\u001b[0m \u001b[0;34m\u001b[0m\u001b[0m\n\u001b[1;32m    416\u001b[0m         \u001b[0;32mreturn\u001b[0m \u001b[0mwrapped\u001b[0m  \u001b[0;31m# type: ignore[return-value]\u001b[0m\u001b[0;34m\u001b[0m\u001b[0;34m\u001b[0m\u001b[0m\n",
            "\u001b[0;31mTypeError\u001b[0m: put_pipeline() got an unexpected keyword argument 'date'"
          ]
        }
      ]
    },
    {
      "cell_type": "code",
      "source": [
        "# Introducir nuevos documentos en este indice"
      ],
      "metadata": {
        "id": "TNDK6HaBN2R1"
      },
      "execution_count": null,
      "outputs": []
    },
    {
      "cell_type": "code",
      "source": [
        "# Resetear Job desde la snapshot (buscar snapshot como en el modelo anterior y correr job)"
      ],
      "metadata": {
        "id": "GTpszXekQqrT"
      },
      "execution_count": null,
      "outputs": []
    },
    {
      "cell_type": "code",
      "source": [
        "# Sustituir datos del indice backup al indice original para el tiempo de incidencia"
      ],
      "metadata": {
        "id": "KxE8-WQiQyAI"
      },
      "execution_count": null,
      "outputs": []
    }
  ],
  "metadata": {
    "colab": {
      "name": "Te damos la bienvenida a Colaboratory",
      "provenance": []
    },
    "kernelspec": {
      "display_name": "Python 3",
      "name": "python3"
    }
  },
  "nbformat": 4,
  "nbformat_minor": 0
}