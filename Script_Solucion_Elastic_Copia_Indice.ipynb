{
  "cells": [
    {
      "cell_type": "code",
      "source": [
        "#pip install elasticsearch"
      ],
      "metadata": {
        "id": "t-THT7qJhIeB",
        "outputId": "23d277cd-200e-4615-f244-c407c0b263cc",
        "colab": {
          "base_uri": "https://localhost:8080/"
        }
      },
      "execution_count": 1,
      "outputs": [
        {
          "output_type": "stream",
          "name": "stdout",
          "text": [
            "Looking in indexes: https://pypi.org/simple, https://us-python.pkg.dev/colab-wheels/public/simple/\n",
            "Collecting elasticsearch\n",
            "  Downloading elasticsearch-8.5.2-py3-none-any.whl (385 kB)\n",
            "\u001b[K     |████████████████████████████████| 385 kB 6.0 MB/s \n",
            "\u001b[?25hCollecting elastic-transport<9,>=8\n",
            "  Downloading elastic_transport-8.4.0-py3-none-any.whl (59 kB)\n",
            "\u001b[K     |████████████████████████████████| 59 kB 4.2 MB/s \n",
            "\u001b[?25hRequirement already satisfied: certifi in /usr/local/lib/python3.7/dist-packages (from elastic-transport<9,>=8->elasticsearch) (2022.9.24)\n",
            "Collecting urllib3<2,>=1.26.2\n",
            "  Downloading urllib3-1.26.13-py2.py3-none-any.whl (140 kB)\n",
            "\u001b[K     |████████████████████████████████| 140 kB 49.2 MB/s \n",
            "\u001b[?25hInstalling collected packages: urllib3, elastic-transport, elasticsearch\n",
            "  Attempting uninstall: urllib3\n",
            "    Found existing installation: urllib3 1.24.3\n",
            "    Uninstalling urllib3-1.24.3:\n",
            "      Successfully uninstalled urllib3-1.24.3\n",
            "\u001b[31mERROR: pip's dependency resolver does not currently take into account all the packages that are installed. This behaviour is the source of the following dependency conflicts.\n",
            "requests 2.23.0 requires urllib3!=1.25.0,!=1.25.1,<1.26,>=1.21.1, but you have urllib3 1.26.13 which is incompatible.\u001b[0m\n",
            "Successfully installed elastic-transport-8.4.0 elasticsearch-8.5.2 urllib3-1.26.13\n"
          ]
        }
      ]
    },
    {
      "cell_type": "markdown",
      "source": [
        "# Módulos"
      ],
      "metadata": {
        "id": "6HoKPTwbqc9J"
      }
    },
    {
      "cell_type": "code",
      "source": [
        "# Importacion de modulos \n",
        "import elasticsearch\n",
        "import numpy as np\n",
        "from elasticsearch import Elasticsearch\n",
        "from elasticsearch import client\n",
        "from datetime import datetime\n",
        "from time import sleep"
      ],
      "metadata": {
        "id": "pmSEOpC83tFy"
      },
      "execution_count": 12,
      "outputs": []
    },
    {
      "cell_type": "markdown",
      "source": [
        "# Inputs "
      ],
      "metadata": {
        "id": "2t3qWrTlqine"
      }
    },
    {
      "cell_type": "code",
      "source": [
        "# Informacion sobre la incidencia\n",
        "fecha_inicio_incidencia = \"2022-03-04 23:50:00\" # Meter la hora según timezone\n",
        "fecha_fin_incidencia    = \"2022-03-06 00:10:00\" # Meter la hora según timezone\n",
        "\n",
        "# Nombre del Job de Elastic\n",
        "jobname                 = \"sabado_anomalia\""
      ],
      "metadata": {
        "id": "Q894CsyMYQ9I"
      },
      "execution_count": 3,
      "outputs": []
    },
    {
      "cell_type": "code",
      "source": [
        "# Datos de la conexion con el servidor de Elastic\n",
        "ELASTIC_PASSWORD = \"9QJVpAsI1dfU33vZpc072VTd\"\n",
        "CLOUD_ID = \"SeriestemporalesElastic:dXMtY2VudHJhbDEuZ2NwLmNsb3VkLmVzLmlvOjQ0MyQxMmRiODkwZjhhN2U0YTVjOTAwMDViODMyZjhlYWViNCRjMmU4YmQxYjkzZTI0MGY5OTZiYzIyNTFkZGMxMGY4Yg==\"\n",
        "\n",
        "client = Elasticsearch(\n",
        "    cloud_id=CLOUD_ID,\n",
        "    basic_auth=(\"elastic\", ELASTIC_PASSWORD)\n",
        ")"
      ],
      "metadata": {
        "id": "hDOLpStE4DlO"
      },
      "execution_count": 21,
      "outputs": []
    },
    {
      "cell_type": "markdown",
      "source": [
        "# Nuevas Variables"
      ],
      "metadata": {
        "id": "sGR3NnT_qn23"
      }
    },
    {
      "cell_type": "code",
      "source": [
        "# Calculo del offset por cambio de hora\n",
        "\n",
        "# Timestamps fechas incidencia\n",
        "fecha_inicio_incidencia = datetime.strptime(fecha_inicio_incidencia, '%Y-%m-%d %H:%M:%S')\n",
        "fecha_inicio_incidencia_timestamp = datetime.timestamp(fecha_inicio_incidencia)*1000\n",
        "\n",
        "fecha_fin_incidencia = datetime.strptime(fecha_fin_incidencia, '%Y-%m-%d %H:%M:%S')\n",
        "fecha_fin_incidencia_timestamp = datetime.timestamp(fecha_fin_incidencia)*1000\n",
        "\n",
        "# Timestamps de las fechas de cambio de hora\n",
        "\n",
        "# Primer cambio de hora\n",
        "fecha_cambio_hora_1 = \"2022-03-27 02:00:00\" \n",
        "fecha_cambio_hora_1 = datetime.strptime(fecha_cambio_hora_1, '%Y-%m-%d %H:%M:%S')\n",
        "fecha_cambio_hora_1_timestamp = datetime.timestamp(fecha_cambio_hora_1)*1000\n",
        "\n",
        "# Segundo cambio de hora\n",
        "fecha_cambio_hora_2 = \"2022-10-30 02:00:00\" \n",
        "fecha_cambio_hora_2 = datetime.strptime(fecha_cambio_hora_2, '%Y-%m-%d %H:%M:%S')\n",
        "fecha_cambio_hora_2_timestamp = datetime.timestamp(fecha_cambio_hora_2)*1000\n",
        "\n",
        "# Comparamos fechas en el mismo año \n",
        "fecha_inicio_incidencia_cambio_timestamp = (datetime(2022, fecha_inicio_incidencia.month, fecha_inicio_incidencia.day, fecha_inicio_incidencia.hour, fecha_inicio_incidencia.minute, fecha_inicio_incidencia.second).timestamp())*1000 \n",
        "\n",
        "if (fecha_inicio_incidencia_cambio_timestamp < fecha_cambio_hora_1_timestamp):\n",
        "    offset_1 = -3600 \n",
        "\n",
        "if ((fecha_inicio_incidencia_cambio_timestamp > fecha_cambio_hora_1_timestamp) and (fecha_inicio_incidencia_cambio_timestamp < fecha_cambio_hora_2_timestamp)):\n",
        "  offset_1 = -7200\n",
        "\n",
        "if (fecha_cambio_hora_2_timestamp < fecha_inicio_incidencia_cambio_timestamp):\n",
        "  offset_1 = -3600  \n",
        "\n",
        "fecha_fin_incidencia_cambio_timestamp = (datetime(2022, fecha_fin_incidencia.month, fecha_fin_incidencia.day, fecha_fin_incidencia.hour, fecha_fin_incidencia.minute, fecha_fin_incidencia.second).timestamp())*1000 \n",
        "\n",
        "if (fecha_fin_incidencia_cambio_timestamp < fecha_cambio_hora_1_timestamp):\n",
        "    offset_2 = -3600 \n",
        "\n",
        "if ((fecha_fin_incidencia_cambio_timestamp > fecha_cambio_hora_1_timestamp) and (fecha_fin_incidencia_cambio_timestamp < fecha_cambio_hora_2_timestamp)):\n",
        "  offset_2 = -7200\n",
        "\n",
        "if (fecha_cambio_hora_2_timestamp < fecha_fin_incidencia_cambio_timestamp):\n",
        "  offset_2 = -3600  "
      ],
      "metadata": {
        "id": "KZU76-vHbx6X"
      },
      "execution_count": null,
      "outputs": []
    },
    {
      "cell_type": "code",
      "source": [
        "# Transformacion de variables de entrada\n",
        "# Fechas\n",
        "fecha_inicio_incidencia = str((int(fecha_inicio_incidencia_timestamp + offset_1*1000)))\n",
        "fecha_fin_incidencia = str((int(fecha_fin_incidencia_timestamp + offset_2*1000)))\n",
        "\n",
        "# Nombre del Datafeed\n",
        "datafeed_id = \"datafeed-\" + jobname\n",
        "\n",
        "# Cliente de ML\n",
        "cliente_ml = client.ml"
      ],
      "metadata": {
        "id": "LKA4KL7_6Xle"
      },
      "execution_count": null,
      "outputs": []
    },
    {
      "cell_type": "markdown",
      "source": [
        "# Solución"
      ],
      "metadata": {
        "id": "KHmFmwh2qs2q"
      }
    },
    {
      "cell_type": "code",
      "source": [
        "# Paso 1. Parar y cerrar el Job\n",
        "cliente_ml.close_job(job_id=jobname)"
      ],
      "metadata": {
        "colab": {
          "base_uri": "https://localhost:8080/"
        },
        "id": "6AhE18gCeT3s",
        "outputId": "52c2e743-fa4b-42aa-cd1c-a67f4563a893"
      },
      "execution_count": null,
      "outputs": [
        {
          "output_type": "execute_result",
          "data": {
            "text/plain": [
              "ObjectApiResponse({'closed': True})"
            ]
          },
          "metadata": {},
          "execution_count": 155
        }
      ]
    },
    {
      "cell_type": "code",
      "source": [
        "# Paso 2. Escoger el id de la snapshot con latest_record_time_stamp mas cercano a la incidencia\n",
        "snapshots_available = cliente_ml.get_model_snapshots(job_id=jobname)\n",
        "# Recoger el count \n",
        "number_snapshots = snapshots_available[\"count\"]\n",
        "# Iterar guardando en una matriz el id del snpashot y latest_record_time_stamp\n",
        "snapshots_info = snapshots_available[\"model_snapshots\"]\n",
        "latest = np.zeros((number_snapshots, 2))\n",
        "for i in range(number_snapshots):\n",
        "  latest[i,0] = snapshots_info[i][\"latest_record_time_stamp\"]\n",
        "\n",
        "for i in range(number_snapshots):\n",
        "  latest[i,1] = snapshots_info[i][\"snapshot_id\"]\n",
        "\n",
        "# Comparar con la fecha de la incidencia para buscar cual esta inmediatamente antes\n",
        "  # Ordenar por timestamp (primera columna)\n",
        "  latest1 = latest[latest[:,0].argsort()]\n",
        "  latest2 = np.flip(latest1, axis=0)\n",
        "  # Eliminar valores mayores\n",
        "  latest3 = latest2[latest2[:,0]<float(fecha_inicio_incidencia)]\n",
        "# Escoger el id de la reversion correcta\n",
        "id_revert = latest3[0,1]\n",
        "id_revert = str(int(id_revert))"
      ],
      "metadata": {
        "id": "MrC1uVf-Pqz3"
      },
      "execution_count": null,
      "outputs": []
    },
    {
      "cell_type": "code",
      "source": [
        "# Paso 3. Revertir el Job antes de la incidencia \n",
        "cliente_ml.revert_model_snapshot(job_id=jobname, snapshot_id=id_revert, delete_intervening_results=True)\n",
        "sleep(5)"
      ],
      "metadata": {
        "id": "Gqc32uAMeZ40"
      },
      "execution_count": null,
      "outputs": []
    },
    {
      "cell_type": "code",
      "source": [
        "# Paso 4. Abrir el Job \n",
        "cliente_ml.open_job(job_id=jobname)\n",
        "sleep(5)"
      ],
      "metadata": {
        "id": "LKuk9FApej7j"
      },
      "execution_count": null,
      "outputs": []
    },
    {
      "cell_type": "code",
      "source": [
        "# Paso 5. Avanzamos datafeed hasta la fecha de inicio de incidencia\n",
        "cliente_ml.start_datafeed(datafeed_id=datafeed_id, end=fecha_inicio_incidencia)\n",
        "state_datafeed = 1\n",
        "\n",
        "# Una vez completado el paso continuamos al siguiente\n",
        "while (state_datafeed == 1):\n",
        "  sleep(10)\n",
        "  state_datafd = cliente_ml.get_datafeed_stats(datafeed_id=datafeed_id)\n",
        "  st = state_datafd['datafeeds']\n",
        "  state_actual = st[0]['state'] \n",
        "  if (state_actual == 'stopped'):\n",
        "    state_datafeed = 0"
      ],
      "metadata": {
        "id": "LMIo4Uw7es2t"
      },
      "execution_count": null,
      "outputs": []
    },
    {
      "cell_type": "code",
      "source": [
        "# Paso 6. Abrir el Job \n",
        "cliente_ml.open_job(job_id=jobname)\n",
        "sleep(5)"
      ],
      "metadata": {
        "id": "cS4jQ-gqt3hY"
      },
      "execution_count": null,
      "outputs": []
    },
    {
      "cell_type": "code",
      "source": [
        "# Paso 7. Avanzamos datafeed desde la fecha de fin de incidencia hasta la fecha actual\n",
        "cliente_ml.start_datafeed(datafeed_id=datafeed_id, start=str(int(fecha_fin_incidencia)))"
      ],
      "metadata": {
        "colab": {
          "base_uri": "https://localhost:8080/"
        },
        "id": "aI8tSEvyet-d",
        "outputId": "ce495806-3a01-463b-945c-49d9a218c6d1"
      },
      "execution_count": null,
      "outputs": [
        {
          "output_type": "execute_result",
          "data": {
            "text/plain": [
              "ObjectApiResponse({'started': True, 'node': '1UbOBFWrRuiIttmnruod0A'})"
            ]
          },
          "metadata": {},
          "execution_count": 161
        }
      ]
    },
    {
      "cell_type": "markdown",
      "source": [
        "# Parte de Indices"
      ],
      "metadata": {
        "id": "ApNixb3H0-qk"
      }
    },
    {
      "cell_type": "code",
      "source": [
        "#pip install eland\n",
        "#pip install elasticsearch"
      ],
      "metadata": {
        "id": "cEktGNiU-yQe",
        "outputId": "8e85aaee-7418-4f55-cb8a-822a472337c8",
        "colab": {
          "base_uri": "https://localhost:8080/"
        }
      },
      "execution_count": 49,
      "outputs": [
        {
          "output_type": "stream",
          "name": "stdout",
          "text": [
            "Looking in indexes: https://pypi.org/simple, https://us-python.pkg.dev/colab-wheels/public/simple/\n",
            "Collecting eland\n",
            "  Downloading eland-8.3.0-py3-none-any.whl (143 kB)\n",
            "\u001b[K     |████████████████████████████████| 143 kB 8.2 MB/s \n",
            "\u001b[?25hRequirement already satisfied: elasticsearch<9,>=8.3 in /usr/local/lib/python3.7/dist-packages (from eland) (8.5.2)\n",
            "Requirement already satisfied: matplotlib<4 in /usr/local/lib/python3.7/dist-packages (from eland) (3.2.2)\n",
            "Requirement already satisfied: numpy<2 in /usr/local/lib/python3.7/dist-packages (from eland) (1.21.6)\n",
            "Requirement already satisfied: pandas<2,>=1.2 in /usr/local/lib/python3.7/dist-packages (from eland) (1.3.5)\n",
            "Requirement already satisfied: elastic-transport<9,>=8 in /usr/local/lib/python3.7/dist-packages (from elasticsearch<9,>=8.3->eland) (8.4.0)\n",
            "Requirement already satisfied: urllib3<2,>=1.26.2 in /usr/local/lib/python3.7/dist-packages (from elastic-transport<9,>=8->elasticsearch<9,>=8.3->eland) (1.26.13)\n",
            "Requirement already satisfied: certifi in /usr/local/lib/python3.7/dist-packages (from elastic-transport<9,>=8->elasticsearch<9,>=8.3->eland) (2022.9.24)\n",
            "Requirement already satisfied: pyparsing!=2.0.4,!=2.1.2,!=2.1.6,>=2.0.1 in /usr/local/lib/python3.7/dist-packages (from matplotlib<4->eland) (3.0.9)\n",
            "Requirement already satisfied: kiwisolver>=1.0.1 in /usr/local/lib/python3.7/dist-packages (from matplotlib<4->eland) (1.4.4)\n",
            "Requirement already satisfied: python-dateutil>=2.1 in /usr/local/lib/python3.7/dist-packages (from matplotlib<4->eland) (2.8.2)\n",
            "Requirement already satisfied: cycler>=0.10 in /usr/local/lib/python3.7/dist-packages (from matplotlib<4->eland) (0.11.0)\n",
            "Requirement already satisfied: typing-extensions in /usr/local/lib/python3.7/dist-packages (from kiwisolver>=1.0.1->matplotlib<4->eland) (4.1.1)\n",
            "Requirement already satisfied: pytz>=2017.3 in /usr/local/lib/python3.7/dist-packages (from pandas<2,>=1.2->eland) (2022.6)\n",
            "Requirement already satisfied: six>=1.5 in /usr/local/lib/python3.7/dist-packages (from python-dateutil>=2.1->matplotlib<4->eland) (1.15.0)\n",
            "Installing collected packages: eland\n",
            "Successfully installed eland-8.3.0\n"
          ]
        }
      ]
    },
    {
      "cell_type": "code",
      "source": [
        "# Importacion de modulos \n",
        "import elasticsearch\n",
        "import numpy as np\n",
        "from elasticsearch import Elasticsearch\n",
        "from elasticsearch import client\n",
        "from datetime import datetime\n",
        "from time import sleep\n",
        "from elasticsearch.client import IndicesClient\n",
        "import eland as ed\n",
        "import pandas as pd"
      ],
      "metadata": {
        "id": "zye1jStu1AQq"
      },
      "execution_count": 101,
      "outputs": []
    },
    {
      "cell_type": "markdown",
      "source": [
        "# Inputs"
      ],
      "metadata": {
        "id": "21GAIsji3_pV"
      }
    },
    {
      "cell_type": "code",
      "source": [
        "# Informacion sobre la incidencia\n",
        "fecha_inicio_incidencia = \"2022-03-04 23:50:00\" # Meter la hora segun timezone, no en UTC\n",
        "fecha_fin_incidencia    = \"2022-03-06 00:10:00\" # Meter la hora según timezone, no en UTC\n",
        "\n",
        "# Nombre del Job de Elastic\n",
        "jobname                 = \"sabado_anomalia\"\n",
        "variable_name_predict   = \"y_an\"\n",
        "\n",
        "# Nombre del indice sobre el que se realiza el Job\n",
        "index_data              = 'sabado_incidencia'"
      ],
      "metadata": {
        "id": "XGAOWWfn4BQd"
      },
      "execution_count": 104,
      "outputs": []
    },
    {
      "cell_type": "markdown",
      "source": [
        "# Nuevas variables"
      ],
      "metadata": {
        "id": "5n62EqUJKiXE"
      }
    },
    {
      "cell_type": "code",
      "source": [
        "# Calculo del offset por cambio de hora\n",
        "\n",
        "# Timestamps fechas incidencia\n",
        "fecha_inicio_incidencia = datetime.strptime(fecha_inicio_incidencia, '%Y-%m-%d %H:%M:%S')\n",
        "fecha_inicio_incidencia_timestamp = datetime.timestamp(fecha_inicio_incidencia)*1000\n",
        "\n",
        "fecha_fin_incidencia = datetime.strptime(fecha_fin_incidencia, '%Y-%m-%d %H:%M:%S')\n",
        "fecha_fin_incidencia_timestamp = datetime.timestamp(fecha_fin_incidencia)*1000\n",
        "\n",
        "# Timestamps de las fechas de cambio de hora\n",
        "\n",
        "# Primer cambio de hora\n",
        "fecha_cambio_hora_1 = \"2022-03-27 02:00:00\" \n",
        "fecha_cambio_hora_1 = datetime.strptime(fecha_cambio_hora_1, '%Y-%m-%d %H:%M:%S')\n",
        "fecha_cambio_hora_1_timestamp = datetime.timestamp(fecha_cambio_hora_1)*1000\n",
        "\n",
        "# Segundo cambio de hora\n",
        "fecha_cambio_hora_2 = \"2022-10-30 02:00:00\" \n",
        "fecha_cambio_hora_2 = datetime.strptime(fecha_cambio_hora_2, '%Y-%m-%d %H:%M:%S')\n",
        "fecha_cambio_hora_2_timestamp = datetime.timestamp(fecha_cambio_hora_2)*1000\n",
        "\n",
        "# Comparamos fechas en el mismo año \n",
        "fecha_inicio_incidencia_cambio_timestamp = (datetime(2022, fecha_inicio_incidencia.month, fecha_inicio_incidencia.day, fecha_inicio_incidencia.hour, fecha_inicio_incidencia.minute, fecha_inicio_incidencia.second).timestamp())*1000 \n",
        "\n",
        "if (fecha_inicio_incidencia_cambio_timestamp < fecha_cambio_hora_1_timestamp):\n",
        "    offset_1 = -3600 \n",
        "\n",
        "if ((fecha_inicio_incidencia_cambio_timestamp > fecha_cambio_hora_1_timestamp) and (fecha_inicio_incidencia_cambio_timestamp < fecha_cambio_hora_2_timestamp)):\n",
        "  offset_1 = -7200\n",
        "\n",
        "if (fecha_cambio_hora_2_timestamp < fecha_inicio_incidencia_cambio_timestamp):\n",
        "  offset_1 = -3600  \n",
        "\n",
        "fecha_fin_incidencia_cambio_timestamp = (datetime(2022, fecha_fin_incidencia.month, fecha_fin_incidencia.day, fecha_fin_incidencia.hour, fecha_fin_incidencia.minute, fecha_fin_incidencia.second).timestamp())*1000 \n",
        "\n",
        "if (fecha_fin_incidencia_cambio_timestamp < fecha_cambio_hora_1_timestamp):\n",
        "    offset_2 = -3600 \n",
        "\n",
        "if ((fecha_fin_incidencia_cambio_timestamp > fecha_cambio_hora_1_timestamp) and (fecha_fin_incidencia_cambio_timestamp < fecha_cambio_hora_2_timestamp)):\n",
        "  offset_2 = -7200\n",
        "\n",
        "if (fecha_cambio_hora_2_timestamp < fecha_fin_incidencia_cambio_timestamp):\n",
        "  offset_2 = -3600  "
      ],
      "metadata": {
        "id": "sMl1DrpJKkdc"
      },
      "execution_count": 105,
      "outputs": []
    },
    {
      "cell_type": "code",
      "source": [
        "# Transformacion de variables de entrada\n",
        "# Fechas\n",
        "fecha_inicio_incidencia = (fecha_inicio_incidencia_timestamp + offset_1*1000)/1000\n",
        "fecha_fin_incidencia    = (fecha_fin_incidencia_timestamp + offset_2*1000)/1000\n",
        "\n",
        "fecha_inicio_incidencia_datetime = datetime.fromtimestamp(fecha_inicio_incidencia)\n",
        "fecha_fin_incidencia_datetime = datetime.fromtimestamp(fecha_fin_incidencia)\n",
        "\n",
        "# Nombre del Datafeed\n",
        "datafeed_id = \"datafeed-\" + jobname"
      ],
      "metadata": {
        "id": "XJClAMIsKulK"
      },
      "execution_count": 111,
      "outputs": []
    },
    {
      "cell_type": "code",
      "source": [
        "fecha_inicio_incidencia_datetime"
      ],
      "metadata": {
        "id": "nJc-0WHqLrYn",
        "outputId": "be9300bc-9c9d-4c56-eab6-b33b23b8fed5",
        "colab": {
          "base_uri": "https://localhost:8080/"
        }
      },
      "execution_count": 112,
      "outputs": [
        {
          "output_type": "execute_result",
          "data": {
            "text/plain": [
              "datetime.datetime(2022, 3, 4, 22, 50)"
            ]
          },
          "metadata": {},
          "execution_count": 112
        }
      ]
    },
    {
      "cell_type": "code",
      "source": [
        "es_client = Elasticsearch(\n",
        "    cloud_id=CLOUD_ID,\n",
        "    basic_auth=(\"elastic\", ELASTIC_PASSWORD)\n",
        ")\n",
        "cliente_index = IndicesClient(client=es_client)"
      ],
      "metadata": {
        "id": "y8yeQ6qA1FFA"
      },
      "execution_count": 113,
      "outputs": []
    },
    {
      "cell_type": "code",
      "source": [
        "# Creacion del Indice de Backup\n",
        "indexname = 'indicebackup'\n",
        "try:\n",
        "  cliente_index.create(index=indexname)\n",
        "except:\n",
        "  cliente_index.delete(index=indexname)\n",
        "  cliente_index.create(index=indexname)"
      ],
      "metadata": {
        "id": "IF2xwwwC1WGI"
      },
      "execution_count": 114,
      "outputs": []
    },
    {
      "cell_type": "code",
      "source": [
        "# Reindexar datos de la anomalia al indice backup (me queda hacer el filtro de solo el tiempo de anomalia)\n",
        "cliente_index.reindex(source=index_data, dest=indexname)"
      ],
      "metadata": {
        "id": "F3CUSHqx4stO",
        "outputId": "e47aa300-02ca-46a8-d779-b200f84c7e6b",
        "colab": {
          "base_uri": "https://localhost:8080/",
          "height": 183
        }
      },
      "execution_count": 115,
      "outputs": [
        {
          "output_type": "error",
          "ename": "AttributeError",
          "evalue": "ignored",
          "traceback": [
            "\u001b[0;31m---------------------------------------------------------------------------\u001b[0m",
            "\u001b[0;31mAttributeError\u001b[0m                            Traceback (most recent call last)",
            "\u001b[0;32m<ipython-input-115-e006065aeda9>\u001b[0m in \u001b[0;36m<module>\u001b[0;34m\u001b[0m\n\u001b[1;32m      1\u001b[0m \u001b[0;31m# Reindexar datos de la anomalia al indice backup (me queda hacer el filtro de solo el tiempo de anomalia)\u001b[0m\u001b[0;34m\u001b[0m\u001b[0;34m\u001b[0m\u001b[0;34m\u001b[0m\u001b[0m\n\u001b[0;32m----> 2\u001b[0;31m \u001b[0mcliente_index\u001b[0m\u001b[0;34m.\u001b[0m\u001b[0mreindex\u001b[0m\u001b[0;34m(\u001b[0m\u001b[0msource\u001b[0m\u001b[0;34m=\u001b[0m\u001b[0mindex_data\u001b[0m\u001b[0;34m,\u001b[0m \u001b[0mdest\u001b[0m\u001b[0;34m=\u001b[0m\u001b[0mindexname\u001b[0m\u001b[0;34m)\u001b[0m\u001b[0;34m\u001b[0m\u001b[0;34m\u001b[0m\u001b[0m\n\u001b[0m",
            "\u001b[0;31mAttributeError\u001b[0m: 'IndicesClient' object has no attribute 'reindex'"
          ]
        }
      ]
    },
    {
      "cell_type": "code",
      "source": [
        "# Obtener datos de la prediccion del Job para el tiempo de anomalia\n",
        "df = ed.DataFrame(es_client, es_index_pattern=\".ml-anomalies-shared\")\n",
        "# Filtramos para nuestro job de interes\n",
        "df = df[df[\"job_id\"] == jobname]\n",
        "# Obtenemos las columnas de interes del dataframe\n",
        "df_select = df[[\"timestamp\", \"model_median\", \"model_upper\"]]\n",
        "# Eliminar filas con valores nulos\n",
        "df_select = ed.eland_to_pandas(df_select)\n",
        "df_select = df_select.dropna()\n",
        "df_select.head(20)\n",
        "# Ordenamos filas por timestamp\n",
        "df_select.timestamp\n",
        "# Seleccionamos timestamp de interes\n",
        "df_select.head(20)"
      ],
      "metadata": {
        "id": "cn5Zl2a81iBm",
        "outputId": "383bbb1e-5fd7-4752-8a39-41150c4aa7ff",
        "colab": {
          "base_uri": "https://localhost:8080/",
          "height": 676
        }
      },
      "execution_count": 132,
      "outputs": [
        {
          "output_type": "execute_result",
          "data": {
            "text/plain": [
              "                                                             timestamp  \\\n",
              "sabado_anomalia_model_plot_1640991600000_600_0_0_0 2021-12-31 23:00:00   \n",
              "sabado_anomalia_model_plot_1640992200000_600_0_0_0 2021-12-31 23:10:00   \n",
              "sabado_anomalia_model_plot_1640992800000_600_0_0_0 2021-12-31 23:20:00   \n",
              "sabado_anomalia_model_plot_1640993400000_600_0_0_0 2021-12-31 23:30:00   \n",
              "sabado_anomalia_model_plot_1640994000000_600_0_0_0 2021-12-31 23:40:00   \n",
              "sabado_anomalia_model_plot_1640994600000_600_0_0_0 2021-12-31 23:50:00   \n",
              "sabado_anomalia_model_plot_1640995200000_600_0_0_0 2022-01-01 00:00:00   \n",
              "sabado_anomalia_model_plot_1640995800000_600_0_0_0 2022-01-01 00:10:00   \n",
              "sabado_anomalia_model_plot_1640996400000_600_0_0_0 2022-01-01 00:20:00   \n",
              "sabado_anomalia_model_plot_1640997000000_600_0_0_0 2022-01-01 00:30:00   \n",
              "sabado_anomalia_model_plot_1640997600000_600_0_0_0 2022-01-01 00:40:00   \n",
              "sabado_anomalia_model_plot_1640998200000_600_0_0_0 2022-01-01 00:50:00   \n",
              "sabado_anomalia_model_plot_1640998800000_600_0_0_0 2022-01-01 01:00:00   \n",
              "sabado_anomalia_model_plot_1640999400000_600_0_0_0 2022-01-01 01:10:00   \n",
              "sabado_anomalia_model_plot_1641000000000_600_0_0_0 2022-01-01 01:20:00   \n",
              "sabado_anomalia_model_plot_1641000600000_600_0_0_0 2022-01-01 01:30:00   \n",
              "sabado_anomalia_model_plot_1641001200000_600_0_0_0 2022-01-01 01:40:00   \n",
              "sabado_anomalia_model_plot_1641001800000_600_0_0_0 2022-01-01 01:50:00   \n",
              "sabado_anomalia_model_plot_1641002400000_600_0_0_0 2022-01-01 02:00:00   \n",
              "sabado_anomalia_model_plot_1641003000000_600_0_0_0 2022-01-01 02:10:00   \n",
              "\n",
              "                                                    model_median  model_upper  \n",
              "sabado_anomalia_model_plot_1640991600000_600_0_0_0      0.000000     0.000000  \n",
              "sabado_anomalia_model_plot_1640992200000_600_0_0_0      0.000000     0.000000  \n",
              "sabado_anomalia_model_plot_1640992800000_600_0_0_0      0.000000     0.000000  \n",
              "sabado_anomalia_model_plot_1640993400000_600_0_0_0      0.000000     0.000000  \n",
              "sabado_anomalia_model_plot_1640994000000_600_0_0_0      0.000000     0.000000  \n",
              "sabado_anomalia_model_plot_1640994600000_600_0_0_0      0.000000     0.000000  \n",
              "sabado_anomalia_model_plot_1640995200000_600_0_0_0      0.000000     0.000000  \n",
              "sabado_anomalia_model_plot_1640995800000_600_0_0_0      0.000000     0.000000  \n",
              "sabado_anomalia_model_plot_1640996400000_600_0_0_0      0.000000     0.000000  \n",
              "sabado_anomalia_model_plot_1640997000000_600_0_0_0      0.000000     0.000000  \n",
              "sabado_anomalia_model_plot_1640997600000_600_0_0_0    361.367008   480.559817  \n",
              "sabado_anomalia_model_plot_1640998200000_600_0_0_0    367.091679   496.388558  \n",
              "sabado_anomalia_model_plot_1640998800000_600_0_0_0    372.748836   511.820060  \n",
              "sabado_anomalia_model_plot_1640999400000_600_0_0_0    378.338802   526.825569  \n",
              "sabado_anomalia_model_plot_1641000000000_600_0_0_0    383.859989   541.392142  \n",
              "sabado_anomalia_model_plot_1641000600000_600_0_0_0    389.310257   555.510090  \n",
              "sabado_anomalia_model_plot_1641001200000_600_0_0_0    394.686939   569.171302  \n",
              "sabado_anomalia_model_plot_1641001800000_600_0_0_0    399.986973   582.368358  \n",
              "sabado_anomalia_model_plot_1641002400000_600_0_0_0    405.207093   595.094101  \n",
              "sabado_anomalia_model_plot_1641003000000_600_0_0_0    410.343934   607.341359  "
            ],
            "text/html": [
              "\n",
              "  <div id=\"df-925e17b4-65c3-452d-b2c3-691f9c605c2e\">\n",
              "    <div class=\"colab-df-container\">\n",
              "      <div>\n",
              "<style scoped>\n",
              "    .dataframe tbody tr th:only-of-type {\n",
              "        vertical-align: middle;\n",
              "    }\n",
              "\n",
              "    .dataframe tbody tr th {\n",
              "        vertical-align: top;\n",
              "    }\n",
              "\n",
              "    .dataframe thead th {\n",
              "        text-align: right;\n",
              "    }\n",
              "</style>\n",
              "<table border=\"1\" class=\"dataframe\">\n",
              "  <thead>\n",
              "    <tr style=\"text-align: right;\">\n",
              "      <th></th>\n",
              "      <th>timestamp</th>\n",
              "      <th>model_median</th>\n",
              "      <th>model_upper</th>\n",
              "    </tr>\n",
              "  </thead>\n",
              "  <tbody>\n",
              "    <tr>\n",
              "      <th>sabado_anomalia_model_plot_1640991600000_600_0_0_0</th>\n",
              "      <td>2021-12-31 23:00:00</td>\n",
              "      <td>0.000000</td>\n",
              "      <td>0.000000</td>\n",
              "    </tr>\n",
              "    <tr>\n",
              "      <th>sabado_anomalia_model_plot_1640992200000_600_0_0_0</th>\n",
              "      <td>2021-12-31 23:10:00</td>\n",
              "      <td>0.000000</td>\n",
              "      <td>0.000000</td>\n",
              "    </tr>\n",
              "    <tr>\n",
              "      <th>sabado_anomalia_model_plot_1640992800000_600_0_0_0</th>\n",
              "      <td>2021-12-31 23:20:00</td>\n",
              "      <td>0.000000</td>\n",
              "      <td>0.000000</td>\n",
              "    </tr>\n",
              "    <tr>\n",
              "      <th>sabado_anomalia_model_plot_1640993400000_600_0_0_0</th>\n",
              "      <td>2021-12-31 23:30:00</td>\n",
              "      <td>0.000000</td>\n",
              "      <td>0.000000</td>\n",
              "    </tr>\n",
              "    <tr>\n",
              "      <th>sabado_anomalia_model_plot_1640994000000_600_0_0_0</th>\n",
              "      <td>2021-12-31 23:40:00</td>\n",
              "      <td>0.000000</td>\n",
              "      <td>0.000000</td>\n",
              "    </tr>\n",
              "    <tr>\n",
              "      <th>sabado_anomalia_model_plot_1640994600000_600_0_0_0</th>\n",
              "      <td>2021-12-31 23:50:00</td>\n",
              "      <td>0.000000</td>\n",
              "      <td>0.000000</td>\n",
              "    </tr>\n",
              "    <tr>\n",
              "      <th>sabado_anomalia_model_plot_1640995200000_600_0_0_0</th>\n",
              "      <td>2022-01-01 00:00:00</td>\n",
              "      <td>0.000000</td>\n",
              "      <td>0.000000</td>\n",
              "    </tr>\n",
              "    <tr>\n",
              "      <th>sabado_anomalia_model_plot_1640995800000_600_0_0_0</th>\n",
              "      <td>2022-01-01 00:10:00</td>\n",
              "      <td>0.000000</td>\n",
              "      <td>0.000000</td>\n",
              "    </tr>\n",
              "    <tr>\n",
              "      <th>sabado_anomalia_model_plot_1640996400000_600_0_0_0</th>\n",
              "      <td>2022-01-01 00:20:00</td>\n",
              "      <td>0.000000</td>\n",
              "      <td>0.000000</td>\n",
              "    </tr>\n",
              "    <tr>\n",
              "      <th>sabado_anomalia_model_plot_1640997000000_600_0_0_0</th>\n",
              "      <td>2022-01-01 00:30:00</td>\n",
              "      <td>0.000000</td>\n",
              "      <td>0.000000</td>\n",
              "    </tr>\n",
              "    <tr>\n",
              "      <th>sabado_anomalia_model_plot_1640997600000_600_0_0_0</th>\n",
              "      <td>2022-01-01 00:40:00</td>\n",
              "      <td>361.367008</td>\n",
              "      <td>480.559817</td>\n",
              "    </tr>\n",
              "    <tr>\n",
              "      <th>sabado_anomalia_model_plot_1640998200000_600_0_0_0</th>\n",
              "      <td>2022-01-01 00:50:00</td>\n",
              "      <td>367.091679</td>\n",
              "      <td>496.388558</td>\n",
              "    </tr>\n",
              "    <tr>\n",
              "      <th>sabado_anomalia_model_plot_1640998800000_600_0_0_0</th>\n",
              "      <td>2022-01-01 01:00:00</td>\n",
              "      <td>372.748836</td>\n",
              "      <td>511.820060</td>\n",
              "    </tr>\n",
              "    <tr>\n",
              "      <th>sabado_anomalia_model_plot_1640999400000_600_0_0_0</th>\n",
              "      <td>2022-01-01 01:10:00</td>\n",
              "      <td>378.338802</td>\n",
              "      <td>526.825569</td>\n",
              "    </tr>\n",
              "    <tr>\n",
              "      <th>sabado_anomalia_model_plot_1641000000000_600_0_0_0</th>\n",
              "      <td>2022-01-01 01:20:00</td>\n",
              "      <td>383.859989</td>\n",
              "      <td>541.392142</td>\n",
              "    </tr>\n",
              "    <tr>\n",
              "      <th>sabado_anomalia_model_plot_1641000600000_600_0_0_0</th>\n",
              "      <td>2022-01-01 01:30:00</td>\n",
              "      <td>389.310257</td>\n",
              "      <td>555.510090</td>\n",
              "    </tr>\n",
              "    <tr>\n",
              "      <th>sabado_anomalia_model_plot_1641001200000_600_0_0_0</th>\n",
              "      <td>2022-01-01 01:40:00</td>\n",
              "      <td>394.686939</td>\n",
              "      <td>569.171302</td>\n",
              "    </tr>\n",
              "    <tr>\n",
              "      <th>sabado_anomalia_model_plot_1641001800000_600_0_0_0</th>\n",
              "      <td>2022-01-01 01:50:00</td>\n",
              "      <td>399.986973</td>\n",
              "      <td>582.368358</td>\n",
              "    </tr>\n",
              "    <tr>\n",
              "      <th>sabado_anomalia_model_plot_1641002400000_600_0_0_0</th>\n",
              "      <td>2022-01-01 02:00:00</td>\n",
              "      <td>405.207093</td>\n",
              "      <td>595.094101</td>\n",
              "    </tr>\n",
              "    <tr>\n",
              "      <th>sabado_anomalia_model_plot_1641003000000_600_0_0_0</th>\n",
              "      <td>2022-01-01 02:10:00</td>\n",
              "      <td>410.343934</td>\n",
              "      <td>607.341359</td>\n",
              "    </tr>\n",
              "  </tbody>\n",
              "</table>\n",
              "</div>\n",
              "      <button class=\"colab-df-convert\" onclick=\"convertToInteractive('df-925e17b4-65c3-452d-b2c3-691f9c605c2e')\"\n",
              "              title=\"Convert this dataframe to an interactive table.\"\n",
              "              style=\"display:none;\">\n",
              "        \n",
              "  <svg xmlns=\"http://www.w3.org/2000/svg\" height=\"24px\"viewBox=\"0 0 24 24\"\n",
              "       width=\"24px\">\n",
              "    <path d=\"M0 0h24v24H0V0z\" fill=\"none\"/>\n",
              "    <path d=\"M18.56 5.44l.94 2.06.94-2.06 2.06-.94-2.06-.94-.94-2.06-.94 2.06-2.06.94zm-11 1L8.5 8.5l.94-2.06 2.06-.94-2.06-.94L8.5 2.5l-.94 2.06-2.06.94zm10 10l.94 2.06.94-2.06 2.06-.94-2.06-.94-.94-2.06-.94 2.06-2.06.94z\"/><path d=\"M17.41 7.96l-1.37-1.37c-.4-.4-.92-.59-1.43-.59-.52 0-1.04.2-1.43.59L10.3 9.45l-7.72 7.72c-.78.78-.78 2.05 0 2.83L4 21.41c.39.39.9.59 1.41.59.51 0 1.02-.2 1.41-.59l7.78-7.78 2.81-2.81c.8-.78.8-2.07 0-2.86zM5.41 20L4 18.59l7.72-7.72 1.47 1.35L5.41 20z\"/>\n",
              "  </svg>\n",
              "      </button>\n",
              "      \n",
              "  <style>\n",
              "    .colab-df-container {\n",
              "      display:flex;\n",
              "      flex-wrap:wrap;\n",
              "      gap: 12px;\n",
              "    }\n",
              "\n",
              "    .colab-df-convert {\n",
              "      background-color: #E8F0FE;\n",
              "      border: none;\n",
              "      border-radius: 50%;\n",
              "      cursor: pointer;\n",
              "      display: none;\n",
              "      fill: #1967D2;\n",
              "      height: 32px;\n",
              "      padding: 0 0 0 0;\n",
              "      width: 32px;\n",
              "    }\n",
              "\n",
              "    .colab-df-convert:hover {\n",
              "      background-color: #E2EBFA;\n",
              "      box-shadow: 0px 1px 2px rgba(60, 64, 67, 0.3), 0px 1px 3px 1px rgba(60, 64, 67, 0.15);\n",
              "      fill: #174EA6;\n",
              "    }\n",
              "\n",
              "    [theme=dark] .colab-df-convert {\n",
              "      background-color: #3B4455;\n",
              "      fill: #D2E3FC;\n",
              "    }\n",
              "\n",
              "    [theme=dark] .colab-df-convert:hover {\n",
              "      background-color: #434B5C;\n",
              "      box-shadow: 0px 1px 3px 1px rgba(0, 0, 0, 0.15);\n",
              "      filter: drop-shadow(0px 1px 2px rgba(0, 0, 0, 0.3));\n",
              "      fill: #FFFFFF;\n",
              "    }\n",
              "  </style>\n",
              "\n",
              "      <script>\n",
              "        const buttonEl =\n",
              "          document.querySelector('#df-925e17b4-65c3-452d-b2c3-691f9c605c2e button.colab-df-convert');\n",
              "        buttonEl.style.display =\n",
              "          google.colab.kernel.accessAllowed ? 'block' : 'none';\n",
              "\n",
              "        async function convertToInteractive(key) {\n",
              "          const element = document.querySelector('#df-925e17b4-65c3-452d-b2c3-691f9c605c2e');\n",
              "          const dataTable =\n",
              "            await google.colab.kernel.invokeFunction('convertToInteractive',\n",
              "                                                     [key], {});\n",
              "          if (!dataTable) return;\n",
              "\n",
              "          const docLinkHtml = 'Like what you see? Visit the ' +\n",
              "            '<a target=\"_blank\" href=https://colab.research.google.com/notebooks/data_table.ipynb>data table notebook</a>'\n",
              "            + ' to learn more about interactive tables.';\n",
              "          element.innerHTML = '';\n",
              "          dataTable['output_type'] = 'display_data';\n",
              "          await google.colab.output.renderOutput(dataTable, element);\n",
              "          const docLink = document.createElement('div');\n",
              "          docLink.innerHTML = docLinkHtml;\n",
              "          element.appendChild(docLink);\n",
              "        }\n",
              "      </script>\n",
              "    </div>\n",
              "  </div>\n",
              "  "
            ]
          },
          "metadata": {},
          "execution_count": 132
        }
      ]
    },
    {
      "cell_type": "code",
      "source": [
        "df_select['timestamp'] = pd.to_datetime(df_select.timestamp)"
      ],
      "metadata": {
        "id": "IJGAn3fgGlfK"
      },
      "execution_count": 133,
      "outputs": []
    },
    {
      "cell_type": "code",
      "source": [
        "df_select_order = df_select.sort_values(by=\"timestamp\", ascending=True)"
      ],
      "metadata": {
        "id": "E_KDSKoM_Gz8"
      },
      "execution_count": 134,
      "outputs": []
    },
    {
      "cell_type": "code",
      "source": [
        "df_select_order = df_select_order.set_index(\"timestamp\")\n",
        "df_select_order.head(20)"
      ],
      "metadata": {
        "id": "s2pNPEIoGvZm",
        "outputId": "4dec551d-ccb1-47d2-c850-4541600ab266",
        "colab": {
          "base_uri": "https://localhost:8080/",
          "height": 707
        }
      },
      "execution_count": 135,
      "outputs": [
        {
          "output_type": "execute_result",
          "data": {
            "text/plain": [
              "                     model_median  model_upper\n",
              "timestamp                                     \n",
              "2021-12-31 23:00:00      0.000000     0.000000\n",
              "2021-12-31 23:10:00      0.000000     0.000000\n",
              "2021-12-31 23:20:00      0.000000     0.000000\n",
              "2021-12-31 23:30:00      0.000000     0.000000\n",
              "2021-12-31 23:40:00      0.000000     0.000000\n",
              "2021-12-31 23:50:00      0.000000     0.000000\n",
              "2022-01-01 00:00:00      0.000000     0.000000\n",
              "2022-01-01 00:10:00      0.000000     0.000000\n",
              "2022-01-01 00:20:00      0.000000     0.000000\n",
              "2022-01-01 00:30:00      0.000000     0.000000\n",
              "2022-01-01 00:40:00    361.367008   480.559817\n",
              "2022-01-01 00:50:00    367.091679   496.388558\n",
              "2022-01-01 01:00:00    372.748836   511.820060\n",
              "2022-01-01 01:10:00    378.338802   526.825569\n",
              "2022-01-01 01:20:00    383.859989   541.392142\n",
              "2022-01-01 01:30:00    389.310257   555.510090\n",
              "2022-01-01 01:40:00    394.686939   569.171302\n",
              "2022-01-01 01:50:00    399.986973   582.368358\n",
              "2022-01-01 02:00:00    405.207093   595.094101\n",
              "2022-01-01 02:10:00    410.343934   607.341359"
            ],
            "text/html": [
              "\n",
              "  <div id=\"df-15fdd5c2-cda2-4566-956e-d8d85815c657\">\n",
              "    <div class=\"colab-df-container\">\n",
              "      <div>\n",
              "<style scoped>\n",
              "    .dataframe tbody tr th:only-of-type {\n",
              "        vertical-align: middle;\n",
              "    }\n",
              "\n",
              "    .dataframe tbody tr th {\n",
              "        vertical-align: top;\n",
              "    }\n",
              "\n",
              "    .dataframe thead th {\n",
              "        text-align: right;\n",
              "    }\n",
              "</style>\n",
              "<table border=\"1\" class=\"dataframe\">\n",
              "  <thead>\n",
              "    <tr style=\"text-align: right;\">\n",
              "      <th></th>\n",
              "      <th>model_median</th>\n",
              "      <th>model_upper</th>\n",
              "    </tr>\n",
              "    <tr>\n",
              "      <th>timestamp</th>\n",
              "      <th></th>\n",
              "      <th></th>\n",
              "    </tr>\n",
              "  </thead>\n",
              "  <tbody>\n",
              "    <tr>\n",
              "      <th>2021-12-31 23:00:00</th>\n",
              "      <td>0.000000</td>\n",
              "      <td>0.000000</td>\n",
              "    </tr>\n",
              "    <tr>\n",
              "      <th>2021-12-31 23:10:00</th>\n",
              "      <td>0.000000</td>\n",
              "      <td>0.000000</td>\n",
              "    </tr>\n",
              "    <tr>\n",
              "      <th>2021-12-31 23:20:00</th>\n",
              "      <td>0.000000</td>\n",
              "      <td>0.000000</td>\n",
              "    </tr>\n",
              "    <tr>\n",
              "      <th>2021-12-31 23:30:00</th>\n",
              "      <td>0.000000</td>\n",
              "      <td>0.000000</td>\n",
              "    </tr>\n",
              "    <tr>\n",
              "      <th>2021-12-31 23:40:00</th>\n",
              "      <td>0.000000</td>\n",
              "      <td>0.000000</td>\n",
              "    </tr>\n",
              "    <tr>\n",
              "      <th>2021-12-31 23:50:00</th>\n",
              "      <td>0.000000</td>\n",
              "      <td>0.000000</td>\n",
              "    </tr>\n",
              "    <tr>\n",
              "      <th>2022-01-01 00:00:00</th>\n",
              "      <td>0.000000</td>\n",
              "      <td>0.000000</td>\n",
              "    </tr>\n",
              "    <tr>\n",
              "      <th>2022-01-01 00:10:00</th>\n",
              "      <td>0.000000</td>\n",
              "      <td>0.000000</td>\n",
              "    </tr>\n",
              "    <tr>\n",
              "      <th>2022-01-01 00:20:00</th>\n",
              "      <td>0.000000</td>\n",
              "      <td>0.000000</td>\n",
              "    </tr>\n",
              "    <tr>\n",
              "      <th>2022-01-01 00:30:00</th>\n",
              "      <td>0.000000</td>\n",
              "      <td>0.000000</td>\n",
              "    </tr>\n",
              "    <tr>\n",
              "      <th>2022-01-01 00:40:00</th>\n",
              "      <td>361.367008</td>\n",
              "      <td>480.559817</td>\n",
              "    </tr>\n",
              "    <tr>\n",
              "      <th>2022-01-01 00:50:00</th>\n",
              "      <td>367.091679</td>\n",
              "      <td>496.388558</td>\n",
              "    </tr>\n",
              "    <tr>\n",
              "      <th>2022-01-01 01:00:00</th>\n",
              "      <td>372.748836</td>\n",
              "      <td>511.820060</td>\n",
              "    </tr>\n",
              "    <tr>\n",
              "      <th>2022-01-01 01:10:00</th>\n",
              "      <td>378.338802</td>\n",
              "      <td>526.825569</td>\n",
              "    </tr>\n",
              "    <tr>\n",
              "      <th>2022-01-01 01:20:00</th>\n",
              "      <td>383.859989</td>\n",
              "      <td>541.392142</td>\n",
              "    </tr>\n",
              "    <tr>\n",
              "      <th>2022-01-01 01:30:00</th>\n",
              "      <td>389.310257</td>\n",
              "      <td>555.510090</td>\n",
              "    </tr>\n",
              "    <tr>\n",
              "      <th>2022-01-01 01:40:00</th>\n",
              "      <td>394.686939</td>\n",
              "      <td>569.171302</td>\n",
              "    </tr>\n",
              "    <tr>\n",
              "      <th>2022-01-01 01:50:00</th>\n",
              "      <td>399.986973</td>\n",
              "      <td>582.368358</td>\n",
              "    </tr>\n",
              "    <tr>\n",
              "      <th>2022-01-01 02:00:00</th>\n",
              "      <td>405.207093</td>\n",
              "      <td>595.094101</td>\n",
              "    </tr>\n",
              "    <tr>\n",
              "      <th>2022-01-01 02:10:00</th>\n",
              "      <td>410.343934</td>\n",
              "      <td>607.341359</td>\n",
              "    </tr>\n",
              "  </tbody>\n",
              "</table>\n",
              "</div>\n",
              "      <button class=\"colab-df-convert\" onclick=\"convertToInteractive('df-15fdd5c2-cda2-4566-956e-d8d85815c657')\"\n",
              "              title=\"Convert this dataframe to an interactive table.\"\n",
              "              style=\"display:none;\">\n",
              "        \n",
              "  <svg xmlns=\"http://www.w3.org/2000/svg\" height=\"24px\"viewBox=\"0 0 24 24\"\n",
              "       width=\"24px\">\n",
              "    <path d=\"M0 0h24v24H0V0z\" fill=\"none\"/>\n",
              "    <path d=\"M18.56 5.44l.94 2.06.94-2.06 2.06-.94-2.06-.94-.94-2.06-.94 2.06-2.06.94zm-11 1L8.5 8.5l.94-2.06 2.06-.94-2.06-.94L8.5 2.5l-.94 2.06-2.06.94zm10 10l.94 2.06.94-2.06 2.06-.94-2.06-.94-.94-2.06-.94 2.06-2.06.94z\"/><path d=\"M17.41 7.96l-1.37-1.37c-.4-.4-.92-.59-1.43-.59-.52 0-1.04.2-1.43.59L10.3 9.45l-7.72 7.72c-.78.78-.78 2.05 0 2.83L4 21.41c.39.39.9.59 1.41.59.51 0 1.02-.2 1.41-.59l7.78-7.78 2.81-2.81c.8-.78.8-2.07 0-2.86zM5.41 20L4 18.59l7.72-7.72 1.47 1.35L5.41 20z\"/>\n",
              "  </svg>\n",
              "      </button>\n",
              "      \n",
              "  <style>\n",
              "    .colab-df-container {\n",
              "      display:flex;\n",
              "      flex-wrap:wrap;\n",
              "      gap: 12px;\n",
              "    }\n",
              "\n",
              "    .colab-df-convert {\n",
              "      background-color: #E8F0FE;\n",
              "      border: none;\n",
              "      border-radius: 50%;\n",
              "      cursor: pointer;\n",
              "      display: none;\n",
              "      fill: #1967D2;\n",
              "      height: 32px;\n",
              "      padding: 0 0 0 0;\n",
              "      width: 32px;\n",
              "    }\n",
              "\n",
              "    .colab-df-convert:hover {\n",
              "      background-color: #E2EBFA;\n",
              "      box-shadow: 0px 1px 2px rgba(60, 64, 67, 0.3), 0px 1px 3px 1px rgba(60, 64, 67, 0.15);\n",
              "      fill: #174EA6;\n",
              "    }\n",
              "\n",
              "    [theme=dark] .colab-df-convert {\n",
              "      background-color: #3B4455;\n",
              "      fill: #D2E3FC;\n",
              "    }\n",
              "\n",
              "    [theme=dark] .colab-df-convert:hover {\n",
              "      background-color: #434B5C;\n",
              "      box-shadow: 0px 1px 3px 1px rgba(0, 0, 0, 0.15);\n",
              "      filter: drop-shadow(0px 1px 2px rgba(0, 0, 0, 0.3));\n",
              "      fill: #FFFFFF;\n",
              "    }\n",
              "  </style>\n",
              "\n",
              "      <script>\n",
              "        const buttonEl =\n",
              "          document.querySelector('#df-15fdd5c2-cda2-4566-956e-d8d85815c657 button.colab-df-convert');\n",
              "        buttonEl.style.display =\n",
              "          google.colab.kernel.accessAllowed ? 'block' : 'none';\n",
              "\n",
              "        async function convertToInteractive(key) {\n",
              "          const element = document.querySelector('#df-15fdd5c2-cda2-4566-956e-d8d85815c657');\n",
              "          const dataTable =\n",
              "            await google.colab.kernel.invokeFunction('convertToInteractive',\n",
              "                                                     [key], {});\n",
              "          if (!dataTable) return;\n",
              "\n",
              "          const docLinkHtml = 'Like what you see? Visit the ' +\n",
              "            '<a target=\"_blank\" href=https://colab.research.google.com/notebooks/data_table.ipynb>data table notebook</a>'\n",
              "            + ' to learn more about interactive tables.';\n",
              "          element.innerHTML = '';\n",
              "          dataTable['output_type'] = 'display_data';\n",
              "          await google.colab.output.renderOutput(dataTable, element);\n",
              "          const docLink = document.createElement('div');\n",
              "          docLink.innerHTML = docLinkHtml;\n",
              "          element.appendChild(docLink);\n",
              "        }\n",
              "      </script>\n",
              "    </div>\n",
              "  </div>\n",
              "  "
            ]
          },
          "metadata": {},
          "execution_count": 135
        }
      ]
    },
    {
      "cell_type": "code",
      "source": [
        "df_select_filter = df_select_order.loc[fecha_inicio_incidencia_datetime:fecha_fin_incidencia_datetime]"
      ],
      "metadata": {
        "id": "Xb-Q6iMjG-6A"
      },
      "execution_count": 136,
      "outputs": []
    },
    {
      "cell_type": "code",
      "source": [
        "# Hacer un rename del nombre de columna \"model_median\" al nombre de la variable que se predice en el JOB\n",
        "\n",
        "# Eliminar variable upper_name"
      ],
      "metadata": {
        "id": "2kVsPAJYNCtu",
        "outputId": "33a86386-e5ca-47b4-a72c-991c754fe21d",
        "colab": {
          "base_uri": "https://localhost:8080/",
          "height": 394
        }
      },
      "execution_count": 137,
      "outputs": [
        {
          "output_type": "execute_result",
          "data": {
            "text/plain": [
              "                     model_median  model_upper\n",
              "timestamp                                     \n",
              "2022-03-04 22:50:00    308.572916   327.251581\n",
              "2022-03-04 23:00:00    314.216232   333.835204\n",
              "2022-03-04 23:10:00    321.957465   340.777473\n",
              "2022-03-04 23:20:00    331.547022   349.505517\n",
              "2022-03-04 23:30:00    342.545250   359.655585\n",
              "2022-03-04 23:40:00    354.518268   370.339739\n",
              "2022-03-04 23:50:00    367.002699   381.456476\n",
              "2022-03-05 00:00:00    379.563384   393.267856\n",
              "2022-03-05 00:10:00    392.088762   404.842154\n",
              "2022-03-05 00:20:00    404.537268   416.605969"
            ],
            "text/html": [
              "\n",
              "  <div id=\"df-5310fed5-8453-4f4b-8a27-a479bd378b59\">\n",
              "    <div class=\"colab-df-container\">\n",
              "      <div>\n",
              "<style scoped>\n",
              "    .dataframe tbody tr th:only-of-type {\n",
              "        vertical-align: middle;\n",
              "    }\n",
              "\n",
              "    .dataframe tbody tr th {\n",
              "        vertical-align: top;\n",
              "    }\n",
              "\n",
              "    .dataframe thead th {\n",
              "        text-align: right;\n",
              "    }\n",
              "</style>\n",
              "<table border=\"1\" class=\"dataframe\">\n",
              "  <thead>\n",
              "    <tr style=\"text-align: right;\">\n",
              "      <th></th>\n",
              "      <th>model_median</th>\n",
              "      <th>model_upper</th>\n",
              "    </tr>\n",
              "    <tr>\n",
              "      <th>timestamp</th>\n",
              "      <th></th>\n",
              "      <th></th>\n",
              "    </tr>\n",
              "  </thead>\n",
              "  <tbody>\n",
              "    <tr>\n",
              "      <th>2022-03-04 22:50:00</th>\n",
              "      <td>308.572916</td>\n",
              "      <td>327.251581</td>\n",
              "    </tr>\n",
              "    <tr>\n",
              "      <th>2022-03-04 23:00:00</th>\n",
              "      <td>314.216232</td>\n",
              "      <td>333.835204</td>\n",
              "    </tr>\n",
              "    <tr>\n",
              "      <th>2022-03-04 23:10:00</th>\n",
              "      <td>321.957465</td>\n",
              "      <td>340.777473</td>\n",
              "    </tr>\n",
              "    <tr>\n",
              "      <th>2022-03-04 23:20:00</th>\n",
              "      <td>331.547022</td>\n",
              "      <td>349.505517</td>\n",
              "    </tr>\n",
              "    <tr>\n",
              "      <th>2022-03-04 23:30:00</th>\n",
              "      <td>342.545250</td>\n",
              "      <td>359.655585</td>\n",
              "    </tr>\n",
              "    <tr>\n",
              "      <th>2022-03-04 23:40:00</th>\n",
              "      <td>354.518268</td>\n",
              "      <td>370.339739</td>\n",
              "    </tr>\n",
              "    <tr>\n",
              "      <th>2022-03-04 23:50:00</th>\n",
              "      <td>367.002699</td>\n",
              "      <td>381.456476</td>\n",
              "    </tr>\n",
              "    <tr>\n",
              "      <th>2022-03-05 00:00:00</th>\n",
              "      <td>379.563384</td>\n",
              "      <td>393.267856</td>\n",
              "    </tr>\n",
              "    <tr>\n",
              "      <th>2022-03-05 00:10:00</th>\n",
              "      <td>392.088762</td>\n",
              "      <td>404.842154</td>\n",
              "    </tr>\n",
              "    <tr>\n",
              "      <th>2022-03-05 00:20:00</th>\n",
              "      <td>404.537268</td>\n",
              "      <td>416.605969</td>\n",
              "    </tr>\n",
              "  </tbody>\n",
              "</table>\n",
              "</div>\n",
              "      <button class=\"colab-df-convert\" onclick=\"convertToInteractive('df-5310fed5-8453-4f4b-8a27-a479bd378b59')\"\n",
              "              title=\"Convert this dataframe to an interactive table.\"\n",
              "              style=\"display:none;\">\n",
              "        \n",
              "  <svg xmlns=\"http://www.w3.org/2000/svg\" height=\"24px\"viewBox=\"0 0 24 24\"\n",
              "       width=\"24px\">\n",
              "    <path d=\"M0 0h24v24H0V0z\" fill=\"none\"/>\n",
              "    <path d=\"M18.56 5.44l.94 2.06.94-2.06 2.06-.94-2.06-.94-.94-2.06-.94 2.06-2.06.94zm-11 1L8.5 8.5l.94-2.06 2.06-.94-2.06-.94L8.5 2.5l-.94 2.06-2.06.94zm10 10l.94 2.06.94-2.06 2.06-.94-2.06-.94-.94-2.06-.94 2.06-2.06.94z\"/><path d=\"M17.41 7.96l-1.37-1.37c-.4-.4-.92-.59-1.43-.59-.52 0-1.04.2-1.43.59L10.3 9.45l-7.72 7.72c-.78.78-.78 2.05 0 2.83L4 21.41c.39.39.9.59 1.41.59.51 0 1.02-.2 1.41-.59l7.78-7.78 2.81-2.81c.8-.78.8-2.07 0-2.86zM5.41 20L4 18.59l7.72-7.72 1.47 1.35L5.41 20z\"/>\n",
              "  </svg>\n",
              "      </button>\n",
              "      \n",
              "  <style>\n",
              "    .colab-df-container {\n",
              "      display:flex;\n",
              "      flex-wrap:wrap;\n",
              "      gap: 12px;\n",
              "    }\n",
              "\n",
              "    .colab-df-convert {\n",
              "      background-color: #E8F0FE;\n",
              "      border: none;\n",
              "      border-radius: 50%;\n",
              "      cursor: pointer;\n",
              "      display: none;\n",
              "      fill: #1967D2;\n",
              "      height: 32px;\n",
              "      padding: 0 0 0 0;\n",
              "      width: 32px;\n",
              "    }\n",
              "\n",
              "    .colab-df-convert:hover {\n",
              "      background-color: #E2EBFA;\n",
              "      box-shadow: 0px 1px 2px rgba(60, 64, 67, 0.3), 0px 1px 3px 1px rgba(60, 64, 67, 0.15);\n",
              "      fill: #174EA6;\n",
              "    }\n",
              "\n",
              "    [theme=dark] .colab-df-convert {\n",
              "      background-color: #3B4455;\n",
              "      fill: #D2E3FC;\n",
              "    }\n",
              "\n",
              "    [theme=dark] .colab-df-convert:hover {\n",
              "      background-color: #434B5C;\n",
              "      box-shadow: 0px 1px 3px 1px rgba(0, 0, 0, 0.15);\n",
              "      filter: drop-shadow(0px 1px 2px rgba(0, 0, 0, 0.3));\n",
              "      fill: #FFFFFF;\n",
              "    }\n",
              "  </style>\n",
              "\n",
              "      <script>\n",
              "        const buttonEl =\n",
              "          document.querySelector('#df-5310fed5-8453-4f4b-8a27-a479bd378b59 button.colab-df-convert');\n",
              "        buttonEl.style.display =\n",
              "          google.colab.kernel.accessAllowed ? 'block' : 'none';\n",
              "\n",
              "        async function convertToInteractive(key) {\n",
              "          const element = document.querySelector('#df-5310fed5-8453-4f4b-8a27-a479bd378b59');\n",
              "          const dataTable =\n",
              "            await google.colab.kernel.invokeFunction('convertToInteractive',\n",
              "                                                     [key], {});\n",
              "          if (!dataTable) return;\n",
              "\n",
              "          const docLinkHtml = 'Like what you see? Visit the ' +\n",
              "            '<a target=\"_blank\" href=https://colab.research.google.com/notebooks/data_table.ipynb>data table notebook</a>'\n",
              "            + ' to learn more about interactive tables.';\n",
              "          element.innerHTML = '';\n",
              "          dataTable['output_type'] = 'display_data';\n",
              "          await google.colab.output.renderOutput(dataTable, element);\n",
              "          const docLink = document.createElement('div');\n",
              "          docLink.innerHTML = docLinkHtml;\n",
              "          element.appendChild(docLink);\n",
              "        }\n",
              "      </script>\n",
              "    </div>\n",
              "  </div>\n",
              "  "
            ]
          },
          "metadata": {},
          "execution_count": 137
        }
      ]
    },
    {
      "cell_type": "code",
      "source": [
        "# Crear la pipeline de ingesta para @timestamp y parsear a un indice los datos teniendo cuidado con el timestamp"
      ],
      "metadata": {
        "id": "HLMIl7ipQXkr"
      },
      "execution_count": null,
      "outputs": []
    },
    {
      "cell_type": "code",
      "source": [
        "# Eliminar del indice principal datos para el timestamp de la incidencia"
      ],
      "metadata": {
        "id": "03wvlA3cNO0D"
      },
      "execution_count": 138,
      "outputs": []
    },
    {
      "cell_type": "code",
      "source": [
        "# Introducir nuevos documentos en este indice"
      ],
      "metadata": {
        "id": "TNDK6HaBN2R1"
      },
      "execution_count": 139,
      "outputs": []
    },
    {
      "cell_type": "code",
      "source": [
        "# Resetear Job desde la snapshot (buscar snapshot como en el modelo anterior y correr job)"
      ],
      "metadata": {
        "id": "GTpszXekQqrT"
      },
      "execution_count": null,
      "outputs": []
    },
    {
      "cell_type": "code",
      "source": [
        "# Sustituir datos del indice backup al indice original para el tiempo de incidencia"
      ],
      "metadata": {
        "id": "KxE8-WQiQyAI"
      },
      "execution_count": null,
      "outputs": []
    }
  ],
  "metadata": {
    "colab": {
      "name": "Te damos la bienvenida a Colaboratory",
      "provenance": []
    },
    "kernelspec": {
      "display_name": "Python 3",
      "name": "python3"
    }
  },
  "nbformat": 4,
  "nbformat_minor": 0
}