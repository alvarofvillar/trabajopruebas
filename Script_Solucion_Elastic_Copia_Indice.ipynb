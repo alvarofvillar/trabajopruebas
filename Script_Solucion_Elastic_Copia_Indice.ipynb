{
  "cells": [
    {
      "cell_type": "code",
      "source": [
        "#pip install elasticsearch"
      ],
      "metadata": {
        "id": "t-THT7qJhIeB",
        "outputId": "bb1eb33d-549f-4073-a35b-b3b5e13f2f0d",
        "colab": {
          "base_uri": "https://localhost:8080/"
        }
      },
      "execution_count": 2,
      "outputs": [
        {
          "output_type": "stream",
          "name": "stdout",
          "text": [
            "Looking in indexes: https://pypi.org/simple, https://us-python.pkg.dev/colab-wheels/public/simple/\n",
            "Collecting elasticsearch\n",
            "  Downloading elasticsearch-8.5.2-py3-none-any.whl (385 kB)\n",
            "\u001b[K     |████████████████████████████████| 385 kB 14.9 MB/s \n",
            "\u001b[?25hCollecting elastic-transport<9,>=8\n",
            "  Downloading elastic_transport-8.4.0-py3-none-any.whl (59 kB)\n",
            "\u001b[K     |████████████████████████████████| 59 kB 7.2 MB/s \n",
            "\u001b[?25hCollecting urllib3<2,>=1.26.2\n",
            "  Downloading urllib3-1.26.13-py2.py3-none-any.whl (140 kB)\n",
            "\u001b[K     |████████████████████████████████| 140 kB 61.4 MB/s \n",
            "\u001b[?25hRequirement already satisfied: certifi in /usr/local/lib/python3.7/dist-packages (from elastic-transport<9,>=8->elasticsearch) (2022.9.24)\n",
            "Installing collected packages: urllib3, elastic-transport, elasticsearch\n",
            "  Attempting uninstall: urllib3\n",
            "    Found existing installation: urllib3 1.24.3\n",
            "    Uninstalling urllib3-1.24.3:\n",
            "      Successfully uninstalled urllib3-1.24.3\n",
            "\u001b[31mERROR: pip's dependency resolver does not currently take into account all the packages that are installed. This behaviour is the source of the following dependency conflicts.\n",
            "requests 2.23.0 requires urllib3!=1.25.0,!=1.25.1,<1.26,>=1.21.1, but you have urllib3 1.26.13 which is incompatible.\u001b[0m\n",
            "Successfully installed elastic-transport-8.4.0 elasticsearch-8.5.2 urllib3-1.26.13\n"
          ]
        }
      ]
    },
    {
      "cell_type": "markdown",
      "source": [
        "# Módulos"
      ],
      "metadata": {
        "id": "6HoKPTwbqc9J"
      }
    },
    {
      "cell_type": "code",
      "source": [
        "# Importacion de modulos \n",
        "import elasticsearch\n",
        "import numpy as np\n",
        "from elasticsearch import Elasticsearch\n",
        "from elasticsearch import client\n",
        "from datetime import datetime\n",
        "from time import sleep"
      ],
      "metadata": {
        "id": "pmSEOpC83tFy"
      },
      "execution_count": 5,
      "outputs": []
    },
    {
      "cell_type": "markdown",
      "source": [
        "# Inputs "
      ],
      "metadata": {
        "id": "2t3qWrTlqine"
      }
    },
    {
      "cell_type": "code",
      "source": [
        "# Informacion sobre la incidencia\n",
        "fecha_inicio_incidencia = \"2022-03-04 23:50:00\" # Meter la hora según timezone\n",
        "fecha_fin_incidencia    = \"2022-03-06 00:10:00\" # Meter la hora según timezone\n",
        "\n",
        "# Nombre del Job de Elastic\n",
        "jobname                 = \"sabado_anomalia\""
      ],
      "metadata": {
        "id": "Q894CsyMYQ9I"
      },
      "execution_count": null,
      "outputs": []
    },
    {
      "cell_type": "code",
      "source": [
        "# Datos de la conexion con el servidor de Elastic\n",
        "ELASTIC_PASSWORD = \"9QJVpAsI1dfU33vZpc072VTd\"\n",
        "CLOUD_ID = \"SeriestemporalesElastic:dXMtY2VudHJhbDEuZ2NwLmNsb3VkLmVzLmlvOjQ0MyQxMmRiODkwZjhhN2U0YTVjOTAwMDViODMyZjhlYWViNCRjMmU4YmQxYjkzZTI0MGY5OTZiYzIyNTFkZGMxMGY4Yg==\"\n",
        "\n",
        "client = Elasticsearch(\n",
        "    cloud_id=CLOUD_ID,\n",
        "    basic_auth=(\"elastic\", ELASTIC_PASSWORD)\n",
        ")"
      ],
      "metadata": {
        "id": "hDOLpStE4DlO"
      },
      "execution_count": 6,
      "outputs": []
    },
    {
      "cell_type": "markdown",
      "source": [
        "# Nuevas Variables"
      ],
      "metadata": {
        "id": "sGR3NnT_qn23"
      }
    },
    {
      "cell_type": "code",
      "source": [
        "# Calculo del offset por cambio de hora\n",
        "\n",
        "# Timestamps fechas incidencia\n",
        "fecha_inicio_incidencia = datetime.strptime(fecha_inicio_incidencia, '%Y-%m-%d %H:%M:%S')\n",
        "fecha_inicio_incidencia_timestamp = datetime.timestamp(fecha_inicio_incidencia)*1000\n",
        "\n",
        "fecha_fin_incidencia = datetime.strptime(fecha_fin_incidencia, '%Y-%m-%d %H:%M:%S')\n",
        "fecha_fin_incidencia_timestamp = datetime.timestamp(fecha_fin_incidencia)*1000\n",
        "\n",
        "# Timestamps de las fechas de cambio de hora\n",
        "\n",
        "# Primer cambio de hora\n",
        "fecha_cambio_hora_1 = \"2022-03-27 02:00:00\" \n",
        "fecha_cambio_hora_1 = datetime.strptime(fecha_cambio_hora_1, '%Y-%m-%d %H:%M:%S')\n",
        "fecha_cambio_hora_1_timestamp = datetime.timestamp(fecha_cambio_hora_1)*1000\n",
        "\n",
        "# Segundo cambio de hora\n",
        "fecha_cambio_hora_2 = \"2022-10-30 02:00:00\" \n",
        "fecha_cambio_hora_2 = datetime.strptime(fecha_cambio_hora_2, '%Y-%m-%d %H:%M:%S')\n",
        "fecha_cambio_hora_2_timestamp = datetime.timestamp(fecha_cambio_hora_2)*1000\n",
        "\n",
        "# Comparamos fechas en el mismo año \n",
        "fecha_inicio_incidencia_cambio_timestamp = (datetime(2022, fecha_inicio_incidencia.month, fecha_inicio_incidencia.day, fecha_inicio_incidencia.hour, fecha_inicio_incidencia.minute, fecha_inicio_incidencia.second).timestamp())*1000 \n",
        "\n",
        "if (fecha_inicio_incidencia_cambio_timestamp < fecha_cambio_hora_1_timestamp):\n",
        "    offset_1 = -3600 \n",
        "\n",
        "if ((fecha_inicio_incidencia_cambio_timestamp > fecha_cambio_hora_1_timestamp) and (fecha_inicio_incidencia_cambio_timestamp < fecha_cambio_hora_2_timestamp)):\n",
        "  offset_1 = -7200\n",
        "\n",
        "if (fecha_cambio_hora_2_timestamp < fecha_inicio_incidencia_cambio_timestamp):\n",
        "  offset_1 = -3600  \n",
        "\n",
        "fecha_fin_incidencia_cambio_timestamp = (datetime(2022, fecha_fin_incidencia.month, fecha_fin_incidencia.day, fecha_fin_incidencia.hour, fecha_fin_incidencia.minute, fecha_fin_incidencia.second).timestamp())*1000 \n",
        "\n",
        "if (fecha_fin_incidencia_cambio_timestamp < fecha_cambio_hora_1_timestamp):\n",
        "    offset_2 = -3600 \n",
        "\n",
        "if ((fecha_fin_incidencia_cambio_timestamp > fecha_cambio_hora_1_timestamp) and (fecha_fin_incidencia_cambio_timestamp < fecha_cambio_hora_2_timestamp)):\n",
        "  offset_2 = -7200\n",
        "\n",
        "if (fecha_cambio_hora_2_timestamp < fecha_fin_incidencia_cambio_timestamp):\n",
        "  offset_2 = -3600  "
      ],
      "metadata": {
        "id": "KZU76-vHbx6X"
      },
      "execution_count": null,
      "outputs": []
    },
    {
      "cell_type": "code",
      "source": [
        "# Transformacion de variables de entrada\n",
        "# Fechas\n",
        "fecha_inicio_incidencia = str((int(fecha_inicio_incidencia_timestamp + offset_1*1000)))\n",
        "fecha_fin_incidencia = str((int(fecha_fin_incidencia_timestamp + offset_2*1000)))\n",
        "\n",
        "# Nombre del Datafeed\n",
        "datafeed_id = \"datafeed-\" + jobname\n",
        "\n",
        "# Cliente de ML\n",
        "cliente_ml = client.ml"
      ],
      "metadata": {
        "id": "LKA4KL7_6Xle"
      },
      "execution_count": null,
      "outputs": []
    },
    {
      "cell_type": "markdown",
      "source": [
        "# Solución"
      ],
      "metadata": {
        "id": "KHmFmwh2qs2q"
      }
    },
    {
      "cell_type": "code",
      "source": [
        "# Paso 1. Parar y cerrar el Job\n",
        "cliente_ml.close_job(job_id=jobname)"
      ],
      "metadata": {
        "colab": {
          "base_uri": "https://localhost:8080/"
        },
        "id": "6AhE18gCeT3s",
        "outputId": "52c2e743-fa4b-42aa-cd1c-a67f4563a893"
      },
      "execution_count": null,
      "outputs": [
        {
          "output_type": "execute_result",
          "data": {
            "text/plain": [
              "ObjectApiResponse({'closed': True})"
            ]
          },
          "metadata": {},
          "execution_count": 155
        }
      ]
    },
    {
      "cell_type": "code",
      "source": [
        "# Paso 2. Escoger el id de la snapshot con latest_record_time_stamp mas cercano a la incidencia\n",
        "snapshots_available = cliente_ml.get_model_snapshots(job_id=jobname)\n",
        "# Recoger el count \n",
        "number_snapshots = snapshots_available[\"count\"]\n",
        "# Iterar guardando en una matriz el id del snpashot y latest_record_time_stamp\n",
        "snapshots_info = snapshots_available[\"model_snapshots\"]\n",
        "latest = np.zeros((number_snapshots, 2))\n",
        "for i in range(number_snapshots):\n",
        "  latest[i,0] = snapshots_info[i][\"latest_record_time_stamp\"]\n",
        "\n",
        "for i in range(number_snapshots):\n",
        "  latest[i,1] = snapshots_info[i][\"snapshot_id\"]\n",
        "\n",
        "# Comparar con la fecha de la incidencia para buscar cual esta inmediatamente antes\n",
        "  # Ordenar por timestamp (primera columna)\n",
        "  latest1 = latest[latest[:,0].argsort()]\n",
        "  latest2 = np.flip(latest1, axis=0)\n",
        "  # Eliminar valores mayores\n",
        "  latest3 = latest2[latest2[:,0]<float(fecha_inicio_incidencia)]\n",
        "# Escoger el id de la reversion correcta\n",
        "id_revert = latest3[0,1]\n",
        "id_revert = str(int(id_revert))"
      ],
      "metadata": {
        "id": "MrC1uVf-Pqz3"
      },
      "execution_count": null,
      "outputs": []
    },
    {
      "cell_type": "code",
      "source": [
        "# Paso 3. Revertir el Job antes de la incidencia \n",
        "cliente_ml.revert_model_snapshot(job_id=jobname, snapshot_id=id_revert, delete_intervening_results=True)\n",
        "sleep(5)"
      ],
      "metadata": {
        "id": "Gqc32uAMeZ40"
      },
      "execution_count": null,
      "outputs": []
    },
    {
      "cell_type": "code",
      "source": [
        "# Paso 4. Abrir el Job \n",
        "cliente_ml.open_job(job_id=jobname)\n",
        "sleep(5)"
      ],
      "metadata": {
        "id": "LKuk9FApej7j"
      },
      "execution_count": null,
      "outputs": []
    },
    {
      "cell_type": "code",
      "source": [
        "# Paso 5. Avanzamos datafeed hasta la fecha de inicio de incidencia\n",
        "cliente_ml.start_datafeed(datafeed_id=datafeed_id, end=fecha_inicio_incidencia)\n",
        "state_datafeed = 1\n",
        "\n",
        "# Una vez completado el paso continuamos al siguiente\n",
        "while (state_datafeed == 1):\n",
        "  sleep(10)\n",
        "  state_datafd = cliente_ml.get_datafeed_stats(datafeed_id=datafeed_id)\n",
        "  st = state_datafd['datafeeds']\n",
        "  state_actual = st[0]['state'] \n",
        "  if (state_actual == 'stopped'):\n",
        "    state_datafeed = 0"
      ],
      "metadata": {
        "id": "LMIo4Uw7es2t"
      },
      "execution_count": null,
      "outputs": []
    },
    {
      "cell_type": "code",
      "source": [
        "# Paso 6. Abrir el Job \n",
        "cliente_ml.open_job(job_id=jobname)\n",
        "sleep(5)"
      ],
      "metadata": {
        "id": "cS4jQ-gqt3hY"
      },
      "execution_count": null,
      "outputs": []
    },
    {
      "cell_type": "code",
      "source": [
        "# Paso 7. Avanzamos datafeed desde la fecha de fin de incidencia hasta la fecha actual\n",
        "cliente_ml.start_datafeed(datafeed_id=datafeed_id, start=str(int(fecha_fin_incidencia)))"
      ],
      "metadata": {
        "colab": {
          "base_uri": "https://localhost:8080/"
        },
        "id": "aI8tSEvyet-d",
        "outputId": "ce495806-3a01-463b-945c-49d9a218c6d1"
      },
      "execution_count": null,
      "outputs": [
        {
          "output_type": "execute_result",
          "data": {
            "text/plain": [
              "ObjectApiResponse({'started': True, 'node': '1UbOBFWrRuiIttmnruod0A'})"
            ]
          },
          "metadata": {},
          "execution_count": 161
        }
      ]
    },
    {
      "cell_type": "markdown",
      "source": [
        "# Parte de Indices"
      ],
      "metadata": {
        "id": "ApNixb3H0-qk"
      }
    },
    {
      "cell_type": "code",
      "source": [
        "from elasticsearch.client import IndicesClient"
      ],
      "metadata": {
        "id": "zye1jStu1AQq"
      },
      "execution_count": 18,
      "outputs": []
    },
    {
      "cell_type": "markdown",
      "source": [
        "# Inputs"
      ],
      "metadata": {
        "id": "21GAIsji3_pV"
      }
    },
    {
      "cell_type": "code",
      "source": [
        "index_data = 'sabado-incidencia'"
      ],
      "metadata": {
        "id": "XGAOWWfn4BQd"
      },
      "execution_count": 28,
      "outputs": []
    },
    {
      "cell_type": "code",
      "source": [
        "create_index = client.index\n",
        "reindex_index = client.reindex"
      ],
      "metadata": {
        "id": "y8yeQ6qA1FFA"
      },
      "execution_count": 26,
      "outputs": []
    },
    {
      "cell_type": "code",
      "source": [
        "# Creacion del Indice de Backup\n",
        "indexname = 'indicebackup'\n",
        "create_index.create(index=indexname)"
      ],
      "metadata": {
        "id": "IF2xwwwC1WGI",
        "outputId": "e25f7dc5-d609-426a-bbe9-38e23c94e2fc",
        "colab": {
          "base_uri": "https://localhost:8080/"
        }
      },
      "execution_count": 27,
      "outputs": [
        {
          "output_type": "execute_result",
          "data": {
            "text/plain": [
              "ObjectApiResponse({'acknowledged': True, 'shards_acknowledged': True, 'index': 'indicebackup'})"
            ]
          },
          "metadata": {},
          "execution_count": 27
        }
      ]
    },
    {
      "cell_type": "code",
      "source": [
        "reindex_index.reindex(source=index_data, dest=indexname, )"
      ],
      "metadata": {
        "id": "cn5Zl2a81iBm"
      },
      "execution_count": null,
      "outputs": []
    }
  ],
  "metadata": {
    "colab": {
      "name": "Te damos la bienvenida a Colaboratory",
      "provenance": []
    },
    "kernelspec": {
      "display_name": "Python 3",
      "name": "python3"
    }
  },
  "nbformat": 4,
  "nbformat_minor": 0
}