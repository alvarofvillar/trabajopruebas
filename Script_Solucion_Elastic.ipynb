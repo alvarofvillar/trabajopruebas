{
  "cells": [
    {
      "cell_type": "code",
      "source": [
        "#pip install elasticsearch"
      ],
      "metadata": {
        "id": "t-THT7qJhIeB"
      },
      "execution_count": 4,
      "outputs": []
    },
    {
      "cell_type": "markdown",
      "source": [
        "# Módulos"
      ],
      "metadata": {
        "id": "6HoKPTwbqc9J"
      }
    },
    {
      "cell_type": "code",
      "source": [
        "# Importacion de modulos \n",
        "import elasticsearch\n",
        "import numpy as np\n",
        "from elasticsearch import Elasticsearch\n",
        "from elasticsearch import client\n",
        "from datetime import datetime"
      ],
      "metadata": {
        "id": "pmSEOpC83tFy"
      },
      "execution_count": 62,
      "outputs": []
    },
    {
      "cell_type": "markdown",
      "source": [
        "# Inputs "
      ],
      "metadata": {
        "id": "2t3qWrTlqine"
      }
    },
    {
      "cell_type": "code",
      "source": [
        "# Informacion sobre la incidencia\n",
        "fecha_inicio_incidencia = \"2018-06-29 17:08:00\"\n",
        "fecha_fin_incidencia    = \"2018-06-30 18:22:16\"\n",
        "# Nombre del Job de Elastic\n",
        "jobname                 = \"pruebas_script\""
      ],
      "metadata": {
        "id": "Q894CsyMYQ9I"
      },
      "execution_count": 6,
      "outputs": []
    },
    {
      "cell_type": "code",
      "source": [
        "# Datos de la conexion con el servidor de Elastic\n",
        "ELASTIC_PASSWORD = \"9QJVpAsI1dfU33vZpc072VTd\"\n",
        "CLOUD_ID = \"SeriestemporalesElastic:dXMtY2VudHJhbDEuZ2NwLmNsb3VkLmVzLmlvOjQ0MyQxMmRiODkwZjhhN2U0YTVjOTAwMDViODMyZjhlYWViNCRjMmU4YmQxYjkzZTI0MGY5OTZiYzIyNTFkZGMxMGY4Yg==\"\n",
        "\n",
        "client = Elasticsearch(\n",
        "    cloud_id=CLOUD_ID,\n",
        "    basic_auth=(\"elastic\", ELASTIC_PASSWORD)\n",
        ")"
      ],
      "metadata": {
        "id": "hDOLpStE4DlO"
      },
      "execution_count": 7,
      "outputs": []
    },
    {
      "cell_type": "markdown",
      "source": [
        "# Nuevas Variables"
      ],
      "metadata": {
        "id": "sGR3NnT_qn23"
      }
    },
    {
      "cell_type": "code",
      "source": [
        "# Transformacion de variables de entrada\n",
        "\n",
        "# Fechas\n",
        "fecha_inicio_incidencia = datetime.strptime(fecha_inicio_incidencia, '%Y-%m-%d %H:%M:%S')\n",
        "fecha_inicio_incidencia = datetime.timestamp(fecha_inicio_incidencia)\n",
        "\n",
        "fecha_fin_incidencia = datetime.strptime(fecha_fin_incidencia, '%Y-%m-%d %H:%M:%S')\n",
        "fecha_fin_incidencia = datetime.timestamp(fecha_fin_incidencia)\n",
        "\n",
        "# Nombre del Datafeed\n",
        "datafeed_id = \"datafeed-\" + jobname\n",
        "\n",
        "# Cliente de ML\n",
        "cliente_ml = client.ml"
      ],
      "metadata": {
        "id": "LKA4KL7_6Xle"
      },
      "execution_count": 8,
      "outputs": []
    },
    {
      "cell_type": "markdown",
      "source": [
        "# Solución"
      ],
      "metadata": {
        "id": "KHmFmwh2qs2q"
      }
    },
    {
      "cell_type": "code",
      "source": [
        "# Paso 1. Parar y cerrar el Job\n",
        "cliente_ml.close_job(job_id=jobname)"
      ],
      "metadata": {
        "colab": {
          "base_uri": "https://localhost:8080/"
        },
        "id": "6AhE18gCeT3s",
        "outputId": "18396526-adee-4a9e-aa10-9d84eb0974ed"
      },
      "execution_count": 9,
      "outputs": [
        {
          "output_type": "execute_result",
          "data": {
            "text/plain": [
              "ObjectApiResponse({'closed': True})"
            ]
          },
          "metadata": {},
          "execution_count": 9
        }
      ]
    },
    {
      "cell_type": "code",
      "source": [
        "# Paso 2. Escoger el id de la snapshot con latest_record_time_stamp mas cercano a la incidencia\n",
        "snapshots_available = cliente_ml.get_model_snapshots(job_id=jobname)\n",
        "snapshots_available\n",
        "# Recoger el count \n",
        "number_snapshots = snapshots_available[\"count\"]\n",
        "# Iterar guardando en una matriz el id del snpashot y latest_record_time_stamp\n",
        "snapshots_info = snapshots_available[\"model_snapshots\"]\n",
        "latest = np.zeros((number_snapshots, 2))\n",
        "\n",
        "for i in range(number_snapshots):\n",
        "  latest[i,0] = snapshots_info[i][\"latest_record_time_stamp\"]\n",
        "\n",
        "for i in range(number_snapshots):\n",
        "  latest[i,1] = snapshots_info[i][\"snapshot_id\"]\n",
        "\n",
        "# Comparar con la fecha de la incidencia para buscar cual esta inmediatamente antes\n",
        "  # fecha_inicio_incidencia_timestamp = timestamp(\"2022-04-07T11:22:16Z\")\n",
        "  fecha_inicio_incidencia_timestamp = 1.65209341e+12\n",
        "  # Ordenar por timestamp (primera columna)\n",
        "  latest1 = latest[latest[:,0].argsort()]\n",
        "  latest2 = np.flip(latest1, axis=0)\n",
        "  # Eliminar valores mayores\n",
        "  latest3 = latest2[latest2[:,0]<fecha_inicio_incidencia_timestamp]\n",
        "# Escoger el id de la reversion correcta\n",
        "id_revert = latest[0,1]"
      ],
      "metadata": {
        "id": "gWrwf2BOe6Gf"
      },
      "execution_count": 55,
      "outputs": []
    },
    {
      "cell_type": "code",
      "source": [
        "# Paso 3. Revertir el Job antes de la incidencia \n",
        "cliente_ml.revert_model_snapshot(job_id=jobname, snapshot_id=int(id_revert), delete_intervening_results=True)"
      ],
      "metadata": {
        "colab": {
          "base_uri": "https://localhost:8080/"
        },
        "id": "Gqc32uAMeZ40",
        "outputId": "958c0612-234e-431a-8fd8-7c987490ef24"
      },
      "execution_count": 59,
      "outputs": [
        {
          "output_type": "execute_result",
          "data": {
            "text/plain": [
              "ObjectApiResponse({'model': {'job_id': 'pruebas_script', 'min_version': '8.3.0', 'timestamp': 1669291293000, 'description': 'State persisted due to job close at 2022-11-24T12:01:33+0000', 'snapshot_id': '1669291293', 'snapshot_doc_count': 1, 'model_size_stats': {'job_id': 'pruebas_script', 'result_type': 'model_size_stats', 'model_bytes': 54618, 'peak_model_bytes': 72852, 'model_bytes_exceeded': 0, 'model_bytes_memory_limit': 11534336, 'total_by_field_count': 3, 'total_over_field_count': 0, 'total_partition_field_count': 2, 'bucket_allocation_failures_count': 0, 'memory_status': 'ok', 'assignment_memory_basis': 'current_model_bytes', 'categorized_doc_count': 0, 'total_category_count': 0, 'frequent_category_count': 0, 'rare_category_count': 0, 'dead_category_count': 0, 'failed_category_count': 0, 'categorization_status': 'ok', 'log_time': 1669291293490, 'timestamp': 1652092800000}, 'latest_record_time_stamp': 1652093400000, 'latest_result_time_stamp': 1652092800000, 'retain': False}})"
            ]
          },
          "metadata": {},
          "execution_count": 59
        }
      ]
    },
    {
      "cell_type": "code",
      "source": [
        "# Paso 4. Abrir el Job \n",
        "cliente_ml.open_job(job_id=jobname)"
      ],
      "metadata": {
        "colab": {
          "base_uri": "https://localhost:8080/"
        },
        "id": "LKuk9FApej7j",
        "outputId": "33ed8467-d3ac-40c2-ecbb-50bd775a83b6"
      },
      "execution_count": 61,
      "outputs": [
        {
          "output_type": "execute_result",
          "data": {
            "text/plain": [
              "ObjectApiResponse({'opened': True, 'node': ''})"
            ]
          },
          "metadata": {},
          "execution_count": 61
        }
      ]
    },
    {
      "cell_type": "code",
      "source": [
        "# Paso 5. Avanzamos datafeed hasta la fecha de inicio de incidencia\n",
        "cliente_ml.start_datafeed(datafeed_id=datafeed_id, end=fecha_inicio_incidencia)"
      ],
      "metadata": {
        "id": "LMIo4Uw7es2t"
      },
      "execution_count": null,
      "outputs": []
    },
    {
      "cell_type": "code",
      "source": [
        "# Paso 6. Avanzamos datafeed desde la fecha de fin de incidencia hasta la fecha actual\n",
        "cliente_ml.start_datafeed(datafeed_id=datafeed_id, start=fecha_fin_incidencia)"
      ],
      "metadata": {
        "id": "aI8tSEvyet-d"
      },
      "execution_count": null,
      "outputs": []
    }
  ],
  "metadata": {
    "colab": {
      "name": "Te damos la bienvenida a Colaboratory",
      "toc_visible": true,
      "provenance": []
    },
    "kernelspec": {
      "display_name": "Python 3",
      "name": "python3"
    }
  },
  "nbformat": 4,
  "nbformat_minor": 0
}